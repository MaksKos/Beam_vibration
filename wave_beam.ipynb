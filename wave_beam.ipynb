{
 "cells": [
  {
   "cell_type": "code",
   "execution_count": 1,
   "id": "5959517f-394e-4824-aa5b-a9bb4fa8df86",
   "metadata": {},
   "outputs": [],
   "source": [
    "import joblib\n",
    "import numpy as np\n",
    "import matplotlib.pyplot as plt\n",
    "import pandas as pd\n",
    "import matplotlib as mpl\n",
    "\n",
    "from pyballistics import ozvb_lagrange, get_db_powder, get_powder_names\n",
    "from joblib import Parallel, delayed\n",
    "from matplotlib import cm\n",
    "from matplotlib.colors import ListedColormap"
   ]
  },
  {
   "cell_type": "markdown",
   "id": "56b137a7-9e74-4629-b4ac-0dcf56964f1c",
   "metadata": {},
   "source": [
    "# 1. Ballistic"
   ]
  },
  {
   "cell_type": "code",
   "execution_count": 2,
   "id": "632b355d-b9be-41a8-bd09-3115d02a31e5",
   "metadata": {},
   "outputs": [
    {
     "ename": "SyntaxError",
     "evalue": "'return' outside function (3161560940.py, line 8)",
     "output_type": "error",
     "traceback": [
      "\u001b[1;36m  Input \u001b[1;32mIn [2]\u001b[1;36m\u001b[0m\n\u001b[1;33m    return  {\u001b[0m\n\u001b[1;37m    ^\u001b[0m\n\u001b[1;31mSyntaxError\u001b[0m\u001b[1;31m:\u001b[0m 'return' outside function\n"
     ]
    }
   ],
   "source": [
    "d = 125*1e-3          # калибр м\n",
    "q = 7.05           # вес снаряда кг\n",
    "velocity_pm = 1700         # дульная скорость снаряда\n",
    "n_s = 1           # нарезное орудие\n",
    "max_pressure = 600*1e6    # максимальное давление Па\n",
    "tube_lenght = 5543*1e-3      # длина трубы     \n",
    "p_fors = 10*1e6  "
   ]
  },
  {
   "cell_type": "code",
   "execution_count": 3,
   "id": "326aafbb-4548-463f-abd2-9cf0482526c9",
   "metadata": {},
   "outputs": [
    {
     "ename": "NameError",
     "evalue": "name 'wq' is not defined",
     "output_type": "error",
     "traceback": [
      "\u001b[1;31m---------------------------------------------------------------------------\u001b[0m",
      "\u001b[1;31mNameError\u001b[0m                                 Traceback (most recent call last)",
      "Input \u001b[1;32mIn [3]\u001b[0m, in \u001b[0;36m<cell line: 4>\u001b[1;34m()\u001b[0m\n\u001b[0;32m      1\u001b[0m init_dict \u001b[38;5;241m=\u001b[39m {\n\u001b[0;32m      2\u001b[0m    \u001b[38;5;124m'\u001b[39m\u001b[38;5;124mpowders\u001b[39m\u001b[38;5;124m'\u001b[39m: \n\u001b[0;32m      3\u001b[0m     [\n\u001b[1;32m----> 4\u001b[0m        {\u001b[38;5;124m'\u001b[39m\u001b[38;5;124momega\u001b[39m\u001b[38;5;124m'\u001b[39m: \u001b[38;5;28;01mNone\u001b[39;00m \u001b[38;5;28;01mif\u001b[39;00m \u001b[43mwq\u001b[49m \u001b[38;5;129;01mis\u001b[39;00m \u001b[38;5;28;01mNone\u001b[39;00m \u001b[38;5;28;01melse\u001b[39;00m wq\u001b[38;5;241m*\u001b[39mq,\n\u001b[0;32m      5\u001b[0m        \u001b[38;5;124m'\u001b[39m\u001b[38;5;124mdbname\u001b[39m\u001b[38;5;124m'\u001b[39m: dbname}\n\u001b[0;32m      6\u001b[0m     ],\n\u001b[0;32m      7\u001b[0m     \u001b[38;5;124m'\u001b[39m\u001b[38;5;124minit_conditions\u001b[39m\u001b[38;5;124m'\u001b[39m: \n\u001b[0;32m      8\u001b[0m     {\n\u001b[0;32m      9\u001b[0m        \u001b[38;5;124m'\u001b[39m\u001b[38;5;124mq\u001b[39m\u001b[38;5;124m'\u001b[39m: q,\n\u001b[0;32m     10\u001b[0m        \u001b[38;5;124m'\u001b[39m\u001b[38;5;124md\u001b[39m\u001b[38;5;124m'\u001b[39m: d,\n\u001b[0;32m     11\u001b[0m        \u001b[38;5;124m'\u001b[39m\u001b[38;5;124mW_0\u001b[39m\u001b[38;5;124m'\u001b[39m: \u001b[38;5;28;01mNone\u001b[39;00m \u001b[38;5;28;01mif\u001b[39;00m ro \u001b[38;5;129;01mis\u001b[39;00m \u001b[38;5;28;01mNone\u001b[39;00m \u001b[38;5;28;01melse\u001b[39;00m wq\u001b[38;5;241m*\u001b[39mq\u001b[38;5;241m/\u001b[39mro,\n\u001b[0;32m     12\u001b[0m        \u001b[38;5;124m'\u001b[39m\u001b[38;5;124mphi_1\u001b[39m\u001b[38;5;124m'\u001b[39m: \u001b[38;5;241m1.0\u001b[39m,\n\u001b[0;32m     13\u001b[0m        \u001b[38;5;124m'\u001b[39m\u001b[38;5;124mp_0\u001b[39m\u001b[38;5;124m'\u001b[39m: p_fors, \n\u001b[0;32m     14\u001b[0m        \u001b[38;5;124m'\u001b[39m\u001b[38;5;124mn_S\u001b[39m\u001b[38;5;124m'\u001b[39m: n_s\n\u001b[0;32m     15\u001b[0m     },\n\u001b[0;32m     16\u001b[0m     \u001b[38;5;124m'\u001b[39m\u001b[38;5;124migniter\u001b[39m\u001b[38;5;124m'\u001b[39m: \n\u001b[0;32m     17\u001b[0m     {\n\u001b[0;32m     18\u001b[0m        \u001b[38;5;124m'\u001b[39m\u001b[38;5;124mp_ign_0\u001b[39m\u001b[38;5;124m'\u001b[39m: \u001b[38;5;241m5_000_000.0\u001b[39m \u001b[38;5;66;03m#check it \u001b[39;00m\n\u001b[0;32m     19\u001b[0m     },\n\u001b[0;32m     20\u001b[0m   \n\u001b[0;32m     21\u001b[0m     \u001b[38;5;124m'\u001b[39m\u001b[38;5;124mmeta_lagrange\u001b[39m\u001b[38;5;124m'\u001b[39m: \n\u001b[0;32m     22\u001b[0m     {\n\u001b[0;32m     23\u001b[0m        \u001b[38;5;124m'\u001b[39m\u001b[38;5;124mCFL\u001b[39m\u001b[38;5;124m'\u001b[39m: \u001b[38;5;241m0.9\u001b[39m, \n\u001b[0;32m     24\u001b[0m        \u001b[38;5;124m'\u001b[39m\u001b[38;5;124mn_cells\u001b[39m\u001b[38;5;124m'\u001b[39m: \u001b[38;5;241m300\u001b[39m\n\u001b[0;32m     25\u001b[0m     },\n\u001b[0;32m     26\u001b[0m     \u001b[38;5;124m'\u001b[39m\u001b[38;5;124mstop_conditions\u001b[39m\u001b[38;5;124m'\u001b[39m: \n\u001b[0;32m     27\u001b[0m     {\n\u001b[0;32m     28\u001b[0m        \u001b[38;5;124m'\u001b[39m\u001b[38;5;124mx_p\u001b[39m\u001b[38;5;124m'\u001b[39m: tube_lenght,\n\u001b[0;32m     29\u001b[0m        \u001b[38;5;124m'\u001b[39m\u001b[38;5;124msteps_max\u001b[39m\u001b[38;5;124m'\u001b[39m: \u001b[38;5;241m8000\u001b[39m,   \n\u001b[0;32m     30\u001b[0m        \u001b[38;5;124m'\u001b[39m\u001b[38;5;124mt_max\u001b[39m\u001b[38;5;124m'\u001b[39m: \u001b[38;5;241m0.08\u001b[39m,\n\u001b[0;32m     31\u001b[0m        \u001b[38;5;124m'\u001b[39m\u001b[38;5;124mp_max\u001b[39m\u001b[38;5;124m'\u001b[39m: max_pressure,\n\u001b[0;32m     32\u001b[0m        \u001b[38;5;124m'\u001b[39m\u001b[38;5;124mv_p\u001b[39m\u001b[38;5;124m'\u001b[39m: velocity_pm,\n\u001b[0;32m     33\u001b[0m     }\n\u001b[0;32m     34\u001b[0m     }\n",
      "\u001b[1;31mNameError\u001b[0m: name 'wq' is not defined"
     ]
    }
   ],
   "source": [
    "init_dict = {\n",
    "   'powders': \n",
    "    [\n",
    "       {'omega': None if wq is None else wq*q,\n",
    "       'dbname': dbname}\n",
    "    ],\n",
    "    'init_conditions': \n",
    "    {\n",
    "       'q': q,\n",
    "       'd': d,\n",
    "       'W_0': None if ro is None else wq*q/ro,\n",
    "       'phi_1': 1.0,\n",
    "       'p_0': p_fors, \n",
    "       'n_S': n_s\n",
    "    },\n",
    "    'igniter': \n",
    "    {\n",
    "       'p_ign_0': 5_000_000.0 #check it \n",
    "    },\n",
    "  \n",
    "    'meta_lagrange': \n",
    "    {\n",
    "       'CFL': 0.9, \n",
    "       'n_cells': 300\n",
    "    },\n",
    "    'stop_conditions': \n",
    "    {\n",
    "       'x_p': tube_lenght,\n",
    "       'steps_max': 8000,   \n",
    "       't_max': 0.08,\n",
    "       'p_max': max_pressure,\n",
    "       'v_p': velocity_pm,\n",
    "    }\n",
    "    }"
   ]
  },
  {
   "cell_type": "code",
   "execution_count": null,
   "id": "e327a6fb-2a8e-4951-b9c7-bf715bce968a",
   "metadata": {},
   "outputs": [],
   "source": []
  }
 ],
 "metadata": {
  "kernelspec": {
   "display_name": "Python 3 (ipykernel)",
   "language": "python",
   "name": "python3"
  },
  "language_info": {
   "codemirror_mode": {
    "name": "ipython",
    "version": 3
   },
   "file_extension": ".py",
   "mimetype": "text/x-python",
   "name": "python",
   "nbconvert_exporter": "python",
   "pygments_lexer": "ipython3",
   "version": "3.9.12"
  }
 },
 "nbformat": 4,
 "nbformat_minor": 5
}
