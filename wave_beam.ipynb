{
 "cells": [
  {
   "cell_type": "code",
   "execution_count": 1,
   "id": "5959517f-394e-4824-aa5b-a9bb4fa8df86",
   "metadata": {},
   "outputs": [],
   "source": [
    "import numpy as np\n",
    "from modules import Cannon, Pressure, WaveLong, WaveTang\n",
    "import matplotlib.pyplot as plt\n",
    "from scipy.linalg import solve"
   ]
  },
  {
   "cell_type": "markdown",
   "id": "56b137a7-9e74-4629-b4ac-0dcf56964f1c",
   "metadata": {
    "tags": []
   },
   "source": [
    "# 1. Ballistic and Geometry"
   ]
  },
  {
   "cell_type": "code",
   "execution_count": 2,
   "id": "632b355d-b9be-41a8-bd09-3115d02a31e5",
   "metadata": {},
   "outputs": [],
   "source": [
    "d = 125*1e-3          # калибр м\n",
    "q = 7.05           # вес снаряда кг\n",
    "velocity_pm = 1700         # дульная скорость снаряда\n",
    "n_s = 1           # нарезное орудие\n",
    "max_pressure = 600*1e6    # максимальное давление Па\n",
    "tube_lenght = 5543*1e-3      # длина трубы     \n",
    "p_fors = 10*1e6\n",
    "l_pr = 0.7 # длина снаряда\n",
    "\n",
    "pow_name = \"МАП-1 23/1\"\n",
    "wq, ro = 1.178537, 737.374805\n",
    "\n",
    "rho = 7800\n",
    "E = 200e9\n",
    "vi = 0.25\n",
    "g = 9.81\n",
    "\n",
    "# geometry grid\n",
    "n_x = 500\n",
    "\n",
    "init_dict = {\n",
    "   'powders': \n",
    "    [\n",
    "       {'omega': wq*q,\n",
    "       'dbname': pow_name}\n",
    "    ],\n",
    "    'init_conditions': \n",
    "    {\n",
    "       'q': q,\n",
    "       'd': d,\n",
    "       'W_0': wq*q/ro,\n",
    "       'phi_1': 1.0,\n",
    "       'p_0': p_fors, \n",
    "       'n_S': n_s\n",
    "    },\n",
    "    'igniter': \n",
    "    {\n",
    "       'p_ign_0': 5_000_000.0 #check it \n",
    "    },\n",
    "  \n",
    "    'meta_lagrange': \n",
    "    {\n",
    "       'CFL': 0.9, \n",
    "       'n_cells': 300\n",
    "    },\n",
    "    'stop_conditions': \n",
    "    {\n",
    "       'x_p': tube_lenght,\n",
    "       'steps_max': 8000,   \n",
    "       't_max': 0.08,\n",
    "       'p_max': max_pressure,\n",
    "    }\n",
    "    }"
   ]
  },
  {
   "cell_type": "code",
   "execution_count": 3,
   "id": "e327a6fb-2a8e-4951-b9c7-bf715bce968a",
   "metadata": {},
   "outputs": [],
   "source": [
    "Cannon.ro = rho\n",
    "ball = Pressure(init_dict)\n",
    "ball.calculate()\n",
    "geometry = Cannon()\n",
    "geometry.cannon_geometry(d, ball.l0, ball.l_tube)\n",
    "ball.make_func(geometry.l_kam, l_pr)\n",
    "\n",
    "beam_r2_x = np.array([0, 0.4, 0.5, 0.8, geometry.r_inside_coordinate[-1]])\n",
    "beam_r2 = np.array([0.16, 0.16, 0.16, 0.14, 0.09])\n",
    "geometry.outside_geometry(beam_r2_x, beam_r2)\n",
    "geometry.make_func()\n",
    "geometry.make_dsdx(n_x)"
   ]
  },
  {
   "cell_type": "markdown",
   "id": "9a3237c5-9faf-456f-9929-fba3a221aa3e",
   "metadata": {
    "tags": []
   },
   "source": [
    "# 3. Wave x (long)"
   ]
  },
  {
   "cell_type": "code",
   "execution_count": 4,
   "id": "46459370-ed69-45cc-a387-b9dd65495d55",
   "metadata": {},
   "outputs": [],
   "source": [
    "displ = 0 \n",
    "n_t = 500\n",
    "\n",
    "dt = ball.t_end/n_t\n",
    "T = ball.t_end # time stop\n",
    "T_st = 1\n",
    "L = geometry.L - displ\n",
    "C = 0.75 # the Courant number (=max(c)*dt/dx)."
   ]
  },
  {
   "cell_type": "markdown",
   "id": "8f9a89a7-39c1-48bc-9254-8366baf3f569",
   "metadata": {
    "tags": []
   },
   "source": [
    "### Solve euption"
   ]
  },
  {
   "cell_type": "code",
   "execution_count": 5,
   "id": "5b55df2f-064f-4c09-ae35-3902cf02ef51",
   "metadata": {},
   "outputs": [
    {
     "name": "stdout",
     "output_type": "stream",
     "text": [
      "\n",
      " T: 0.008\n",
      " T_st: 1\n",
      " Mass: True\n",
      " Pressure: True\n",
      "\n",
      "N_x =  59\n",
      "CPU times: total: 39 s\n",
      "Wall time: 39.3 s\n"
     ]
    }
   ],
   "source": [
    "%%time\n",
    "wave_x = WaveLong(geometry, T, dt, T_st, mass_on=True, fi=np.pi/4)\n",
    "wave_x.add_pressure(ball, projectile=False)\n",
    "wave_x.solver()"
   ]
  },
  {
   "cell_type": "code",
   "execution_count": 6,
   "id": "98d4a80b-2c64-4c02-a984-d1d4a373f865",
   "metadata": {},
   "outputs": [
    {
     "data": {
      "text/plain": [
       "((63660, 60), (0,))"
      ]
     },
     "execution_count": 6,
     "metadata": {},
     "output_type": "execute_result"
    }
   ],
   "source": [
    "wave_x.grid_u.shape, wave_x.grid_t[100_000:].shape"
   ]
  },
  {
   "cell_type": "code",
   "execution_count": 7,
   "id": "c827c196-30bb-42fb-8552-ae8d96f81db9",
   "metadata": {},
   "outputs": [],
   "source": [
    "def u(x, t):\n",
    "    if t < 0:\n",
    "        return np.zeros_like(x)\n",
    "    points = np.array([x, (t+wave_x.T_st)*np.ones_like(x)]).T\n",
    "    return wave_x.u(points)"
   ]
  },
  {
   "cell_type": "code",
   "execution_count": 8,
   "id": "6a7e73f2-da35-4663-94d0-f0cacded23ed",
   "metadata": {},
   "outputs": [
    {
     "data": {
      "text/plain": [
       "array([-0.00015384])"
      ]
     },
     "execution_count": 8,
     "metadata": {},
     "output_type": "execute_result"
    }
   ],
   "source": [
    "u(6, ball.t_end/1.2)"
   ]
  },
  {
   "cell_type": "markdown",
   "id": "840d8d1e-0177-471d-b69f-526ea525641b",
   "metadata": {
    "jp-MarkdownHeadingCollapsed": true,
    "tags": []
   },
   "source": [
    "### Vizualization"
   ]
  },
  {
   "cell_type": "code",
   "execution_count": 12,
   "id": "2d6e1f24-6224-42e5-98d7-7fb032a7a924",
   "metadata": {},
   "outputs": [],
   "source": [
    "%matplotlib widget\n",
    "import matplotlib.pyplot as plt\n",
    "import ipywidgets as widgets"
   ]
  },
  {
   "cell_type": "code",
   "execution_count": 13,
   "id": "f7596d3f-5c07-45c6-96b1-22a362e3be33",
   "metadata": {},
   "outputs": [],
   "source": [
    "#%matplotlib inline \n",
    "#%config InlineBackend.figure_format = 'svg' \n",
    "rc = {\"font.family\" : \"serif\", \n",
    "      \"mathtext.fontset\" : \"stix\"}\n",
    "plt.rcParams.update(rc)\n",
    "plt.rcParams[\"font.serif\"] = [\"Times New Roman\"] + plt.rcParams[\"font.serif\"]"
   ]
  },
  {
   "cell_type": "code",
   "execution_count": 14,
   "id": "a3491f1b-5c8c-46a4-b31e-6c07c4cae060",
   "metadata": {
    "tags": []
   },
   "outputs": [
    {
     "data": {
      "application/vnd.jupyter.widget-view+json": {
       "model_id": "61274b0e995441d699ca141e16c23a54",
       "version_major": 2,
       "version_minor": 0
      },
      "text/plain": [
       "AppLayout(children=(IntSlider(value=0, description='step', layout=Layout(grid_area='footer', margin='0px 30% 0…"
      ]
     },
     "metadata": {},
     "output_type": "display_data"
    }
   ],
   "source": [
    "plt.ioff()\n",
    "\n",
    "i_start = wave_x.grid_u.shape[0] - round(T/wave_x.dt)\n",
    "\n",
    "step_slider = widgets.IntSlider(\n",
    "    orientation='horizontal',\n",
    "    value=0, \n",
    "    min=0, max=wave_x.grid_t[i_start:].shape[0], step=1, \n",
    "    description='step'\n",
    ")\n",
    "\n",
    "step_slider.layout.margin = '0px 30% 0px 30%'\n",
    "step_slider.layout.width = '40%'\n",
    "\n",
    "fig = plt.figure(figsize=(10,6))\n",
    "fig.canvas.header_visible = False\n",
    "fig.canvas.layout.min_height = '400px'\n",
    "#plt.title('Plotting step: {}'.format(data_x[step_slider.value]['t_s']))\n",
    "\n",
    "#line1 = plt.plot(grid_x, u[0]*1e6, lw=1)\n",
    "line2 = plt.plot(wave_x.grid_x, wave_x.grid_u[i_start]*1e6, lw=1)\n",
    "\n",
    "plt.xlabel('$x$, м', fontsize=16)\n",
    "plt.ylabel('$u$, мкм', fontsize=16)\n",
    "plt.xlim(0, 7)\n",
    "plt.ylim(-200, 200)\n",
    "plt.grid()\n",
    "\n",
    "\n",
    "def update_lines(change):\n",
    "    #plt.title('Plotting step: {}'.format(data_x[step_slider.value]['t_s']))\n",
    "    #line1[0].set_data(grid_x, u[change.new]*1e6)\n",
    "    line2[0].set_data(wave_x.grid_x, wave_x.grid_u[i_start+change.new]*1e6)\n",
    "    fig.canvas.draw()\n",
    "    fig.canvas.flush_events()\n",
    "\n",
    "step_slider.observe(update_lines, names='value')\n",
    "\n",
    "widgets.AppLayout(\n",
    "    center=fig.canvas,\n",
    "    footer=step_slider,\n",
    "    pane_heights=[0, 6, 1]\n",
    ")"
   ]
  },
  {
   "cell_type": "code",
   "execution_count": 15,
   "id": "0a3a1ee9-c559-4ae6-9fc5-e2145531c475",
   "metadata": {},
   "outputs": [
    {
     "data": {
      "application/vnd.jupyter.widget-view+json": {
       "model_id": "c55324a045aa4113889278855599c0d5",
       "version_major": 2,
       "version_minor": 0
      },
      "image/png": "[encoded data removed]",
      "text/html": [
       "\n",
       "            <div style=\"display: inline-block;\">\n",
       "                <div class=\"jupyter-widgets widget-label\" style=\"text-align: center;\">\n",
       "                    Figure\n",
       "                </div>\n",
       "                <img src='data:image/png;base64,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' width=640.0/>\n",
       "            </div>\n",
       "        "
      ],
      "text/plain": [
       "Canvas(toolbar=Toolbar(toolitems=[('Home', 'Reset original view', 'home', 'home'), ('Back', 'Back to previous …"
      ]
     },
     "metadata": {},
     "output_type": "display_data"
    }
   ],
   "source": [
    "#%matplotlib inline \n",
    "#%config InlineBackend.figure_format = 'svg' \n",
    "fig2, ax = plt.subplots(1,1)\n",
    "ax.plot(wave_x.grid_t[::100], wave_x.grid_u[::100,-1]*1e6)\n",
    "ax.set_yticks(np.arange(-5, 5, 5))\n",
    "plt.grid()\n",
    "plt.show()"
   ]
  },
  {
   "cell_type": "markdown",
   "id": "4815d57b-9559-4e99-a84f-c652e9a40b3c",
   "metadata": {},
   "source": [
    "# 4. Wave y (tang)"
   ]
  },
  {
   "cell_type": "code",
   "execution_count": 208,
   "id": "1ace282c-6722-435e-ae8d-df2bc7189720",
   "metadata": {},
   "outputs": [],
   "source": [
    "class WaveTang():\n",
    "    \n",
    "    rho = 7800\n",
    "    E = 200e9\n",
    "    vi = 0.25\n",
    "    g = 9.81\n",
    "    \n",
    "    def __init__(self, L, T, dt, F, S, J, u, p, f, C=0.75, dx_user=None):\n",
    "        \n",
    "        # --- Compute time and space mesh ---\n",
    "        self.Nt = int(round(T/dt))\n",
    "        self.t = np.linspace(0, self.Nt*dt, self.Nt+1)      # Mesh points in time\n",
    "        # --- Matrix for v(x, t) --\n",
    "        self.grid_v = []\n",
    "        # --- Find dx ---\n",
    "        \n",
    "        JF_max = max([J(x_)/F(x_) for x_ in np.linspace(0, L, 101)])\n",
    "        dx = dt*np.sqrt(self.E*JF_max/self.rho)/C\n",
    "        if isinstance(dx_user, (float, int)):\n",
    "            dx = dx_user #min(dx, dx_user)\n",
    "        self.Nx = int(round(L/dx))\n",
    "        self.x = np.linspace(0, L, self.Nx+1)          # Mesh points in space\n",
    "        # Make sure dx and dt are compatible with x and t\n",
    "        self.dx = self.x[1] - self.x[0]\n",
    "        self.dt = self.t[1] - self.t[0]\n",
    "        # Add geometry\n",
    "        self.F = F(self.x)\n",
    "        self.S = S(self.x)\n",
    "        self.J = J(self.x)\n",
    "        # Add function\n",
    "        self.fun_u = u\n",
    "        self.fun_p = p\n",
    "        self.fun_f = f\n",
    "    \n",
    "    def save_layer(self, v):\n",
    "        self.grid_v.append(v.copy())\n",
    "        \n",
    "    def init_condition(self, v_0 = None):\n",
    "        \n",
    "        if v_0 is None:\n",
    "            v_0 = np.zeros(self.Nx+1) \n",
    "        elif v_0.shape[0] != self.x.shape[0]:\n",
    "            raise ValueError(f'different shape u0={u_0.shape[0]} and x={self.x.shape[0]}')\n",
    "        # --- Allocate memomry for solutions ---\n",
    "        self.v     = np.zeros(self.Nx+1)   # Solution array at new time level\n",
    "        self.v_n   = np.zeros(self.Nx+1)   # Solution at 1 time level back\n",
    "        self.v_nm1 = np.zeros(self.Nx+1)   # Solution at 2 time levels back\n",
    "\n",
    "        # --- Valid indices for space and time mesh ---\n",
    "        self.Ix = self.Nx+1\n",
    "        self.It = self.Nt+1\n",
    "\n",
    "        # --- Load initial condition into v_n and v_nm1 ---\n",
    "        self.v_n = v_0 + self.dt*self.fun_f(self.x, self.t[0])/2\\\n",
    "                            /self.rho/self.F               \n",
    "        self.v_n[:2] = 0\n",
    "        self.v_nm1 = v_0\n",
    "        \n",
    "    def solver(self, max_iter=None):\n",
    "        \n",
    "        if not self.grid_v: \n",
    "            self.grid_v = []\n",
    "            \n",
    "        # add to matrix init condition\n",
    "        self.save_layer(self.v_nm1)\n",
    "        self.save_layer(self.v_n)\n",
    "        \n",
    "        dx2, dt2 = self.dx**2, self.dt**2\n",
    "        du_dx = np.zeros_like(self.x)\n",
    "        # --- Time loop ---\n",
    "        It = self.It\n",
    "        if isinstance(max_iter, (int, float)):\n",
    "            It = min(max_iter, It)\n",
    "        for n in range(1, It-1):\n",
    "            u = self.fun_u(self.x, self.t[n])\n",
    "            p = self.fun_p(self.x, self.t[n]) \n",
    "            f = self.fun_f(self.x, self.t[n])*dt2 + self.rho*self.F*\\\n",
    "                    (2*self.v_n - self.v_nm1)\n",
    "            omega = self.E*self.F*self.du_dx(u, self.dx) - self.S*p\n",
    "            # --- solv x layer ---\n",
    "            self.v = self.solver_matrix(self.dx, dt2, self.Ix, self.J, omega, self.F, f, self.E, self.rho)\n",
    "            # save\n",
    "            self.save_layer(self.v)\n",
    "            # Update data structures for next step\n",
    "            self.v_nm1 = self.v_n\n",
    "            self.v_n = self.v\n",
    "            self.v = self.v_nm1 # ??\n",
    "           \n",
    "    @staticmethod\n",
    "    def solver_matrix(dx, dt2, Ix, J, Om, F, f, E, rho):\n",
    "        \n",
    "        dx2 = dx*dx\n",
    "        dx4 = dx**4\n",
    "        C1 = dt2/dx2\n",
    "        C2 = dt2/dx4\n",
    "        # empty layer\n",
    "        v_x = np.zeros(Ix)\n",
    "        # allocate memory for coefficients\n",
    "        a = np.zeros(Ix)\n",
    "        b = np.zeros(Ix)\n",
    "        c = np.zeros(Ix)\n",
    "        d = np.zeros(Ix)\n",
    "        e = np.zeros(Ix)\n",
    "        # calculate coefficients\n",
    "        a[2:] = C2*E*J[1:-1]\n",
    "        b[1:] = -C1*(2*E/dx2 * (J[1:]+J[:-1]) + 0.5*(Om[1:] + Om[:-1]))\n",
    "        c[1:-1] = rho*F[1:-1] + C1*0.5*(Om[0:-2] + 2*Om[1:-1] + Om[2:]) +\\\n",
    "                    E*C2*(J[2:] + 4*J[1:-1] + J[0:-2])\n",
    "        d[:-1] = -C1*(2*E/dx2 * (J[1:]+J[:-1]) + 0.5*(Om[:-1] + Om[1:]))\n",
    "        e[:-2] = C2*E*J[1:-1]\n",
    "        # boundary condition for c[0]=0, c[I]\n",
    "        c[-1] = rho*F[-1] + C1*0.5*(Om[-2]+2*Om[-1]) + E*C2*(4*J[-1]+J[-2])\n",
    "        # --- calculate v_x ---\n",
    "        A = np.zeros((Ix-2, Ix))\n",
    "        for i in range(2,Ix-2):\n",
    "                A[i-2][i-2:i+3] = np.array([\n",
    "                        a[i], b[i], c[i], d[i], e[i]\n",
    "                    ])\n",
    "        A = np.delete(A,[0,1],1)\n",
    "        A[-2,-4:] = [-J[-2], (J[-1]+2*J[-2]), -(J[-2]+2*J[-1]), J[-1]]\n",
    "        A[-1,-3:] = [1, -2, 1]\n",
    "        f_new = f[2:]\n",
    "        f_new[-2:] = 0 \n",
    "        # solve equption\n",
    "        v_new = solve(A, f_new.reshape((f_new.shape[0],1)))\n",
    "        v_x[2:] = v_new.reshape(-1)\n",
    "        return v_x\n",
    "    \n",
    "    @staticmethod\n",
    "    def du_dx(u_x, dx):\n",
    "        dudx = np.zeros(u_x.shape[0]+2)\n",
    "        dudx[1:-1] = u_x\n",
    "        dudx[-1] = u_x[-1]\n",
    "        dudx = np.roll(dudx, -2) - dudx\n",
    "        return dudx[:-2]/2/dx\n",
    "    \n",
    "    def get_grid(self):\n",
    "        return np.array(self.grid_v)\n",
    "\n",
    "def find_A(u, x):\n",
    "    \n",
    "    arr_u = []\n",
    "    arr_x = []\n",
    "    add = False \n",
    "    b = u[-1]\n",
    "    c = x[-1]\n",
    "    for i in range(len(u)-1, -1, -1):\n",
    "        if u[i] > b:\n",
    "            add = True\n",
    "            b = u[i]\n",
    "            c = x[i]\n",
    "        elif add:\n",
    "            add = False\n",
    "            arr_u.append(b)\n",
    "            arr_x.append(c)\n",
    "    return np.array(arr_u[::-1]), np.array(arr_x[::-1])"
   ]
  },
  {
   "cell_type": "code",
   "execution_count": 9,
   "id": "8c296dce-2356-4842-bb1d-05c03e409d62",
   "metadata": {},
   "outputs": [],
   "source": [
    "def find_A(u, x):\n",
    "    \n",
    "    arr_u = []\n",
    "    arr_x = []\n",
    "    add = False \n",
    "    b = u[-1]\n",
    "    c = x[-1]\n",
    "    for i in range(len(u)-1, -1, -1):\n",
    "        if u[i] > b:\n",
    "            add = True\n",
    "            b = u[i]\n",
    "            c = x[i]\n",
    "        elif add:\n",
    "            add = False\n",
    "            arr_u.append(b)\n",
    "            arr_x.append(c)\n",
    "    return np.array(arr_u[::-1]), np.array(arr_x[::-1])"
   ]
  },
  {
   "cell_type": "code",
   "execution_count": 54,
   "id": "b40d99a7-f7e7-487c-8f97-b1dd0f4f9524",
   "metadata": {},
   "outputs": [],
   "source": [
    "T_st = 4\n",
    "T = 5*ball.t_end\n",
    "dt = T/2000\n",
    "dx = 1e-2"
   ]
  },
  {
   "cell_type": "code",
   "execution_count": 55,
   "id": "f044fbd2-62f2-46f5-a422-267458d14c4a",
   "metadata": {},
   "outputs": [
    {
     "data": {
      "text/plain": [
       "(0.03958237968393724, 1.979118984196862e-05, 0.01)"
      ]
     },
     "execution_count": 55,
     "metadata": {},
     "output_type": "execute_result"
    }
   ],
   "source": [
    "T, dt, dx"
   ]
  },
  {
   "cell_type": "code",
   "execution_count": 47,
   "id": "bb126f26-1cb1-4909-b276-4f423f4c2f66",
   "metadata": {},
   "outputs": [],
   "source": [
    "wave_y = WaveTang(geometry, T, dt,T_st=T_st, dx_user=dx, mass_on=True)\n",
    "wave_y.add_pressure(ball, u, projectile=True)\n",
    "wave_y.init_condition()"
   ]
  },
  {
   "cell_type": "code",
   "execution_count": 48,
   "id": "35cd948f-b9fe-4f5d-8679-df20cee10ee2",
   "metadata": {},
   "outputs": [
    {
     "data": {
      "text/plain": [
       "(51028, 127, 0.05004554941726483, 7.916475936787448e-05)"
      ]
     },
     "execution_count": 48,
     "metadata": {},
     "output_type": "execute_result"
    }
   ],
   "source": [
    "wave_y.Nt, wave_y.Nx, wave_y.dx, wave_y.dt"
   ]
  },
  {
   "cell_type": "code",
   "execution_count": 49,
   "id": "bacaba50-0451-4bbe-a574-1cc40f8c7bb5",
   "metadata": {},
   "outputs": [
    {
     "name": "stdout",
     "output_type": "stream",
     "text": [
      "CPU times: total: 27 s\n",
      "Wall time: 27.1 s\n"
     ]
    }
   ],
   "source": [
    "%%time\n",
    "wave_y.solver()"
   ]
  },
  {
   "cell_type": "markdown",
   "id": "9641aff2-c287-4c7a-8321-bbd022dbd75e",
   "metadata": {
    "tags": []
   },
   "source": [
    "### Vizualization"
   ]
  },
  {
   "cell_type": "code",
   "execution_count": null,
   "id": "e0db1aeb-220f-4018-a27e-4077bfc8ea35",
   "metadata": {},
   "outputs": [],
   "source": []
  },
  {
   "cell_type": "code",
   "execution_count": 27,
   "id": "c6c07bc0-764f-4384-a535-8958d7311c96",
   "metadata": {},
   "outputs": [],
   "source": [
    "%matplotlib widget\n",
    "import matplotlib.pyplot as plt\n",
    "import ipywidgets as widgets"
   ]
  },
  {
   "cell_type": "code",
   "execution_count": 28,
   "id": "9a278307-9d82-4b4b-b048-f8f505c2bfb9",
   "metadata": {},
   "outputs": [],
   "source": [
    "#%matplotlib inline \n",
    "#%config InlineBackend.figure_format = 'svg' \n",
    "rc = {\"font.family\" : \"serif\", \n",
    "      \"mathtext.fontset\" : \"stix\"}\n",
    "plt.rcParams.update(rc)\n",
    "plt.rcParams[\"font.serif\"] = [\"Times New Roman\"] + plt.rcParams[\"font.serif\"]"
   ]
  },
  {
   "cell_type": "code",
   "execution_count": 30,
   "id": "9f1f6190-ca37-4463-bd24-80b72de3f88c",
   "metadata": {
    "tags": []
   },
   "outputs": [
    {
     "data": {
      "application/vnd.jupyter.widget-view+json": {
       "model_id": "ba7f9e9d0357417883b39f5b4cb76c14",
       "version_major": 2,
       "version_minor": 0
      },
      "text/plain": [
       "AppLayout(children=(IntSlider(value=0, description='step', layout=Layout(grid_area='footer', margin='0px 30% 0…"
      ]
     },
     "metadata": {},
     "output_type": "display_data"
    }
   ],
   "source": [
    "plt.ioff()\n",
    "\n",
    "step_slider = widgets.IntSlider(\n",
    "    orientation='horizontal',\n",
    "    value=0, \n",
    "    min=0, max=wave_y.Nt, step=1, \n",
    "    description='step'\n",
    ")\n",
    "\n",
    "step_slider.layout.margin = '0px 30% 0px 30%'\n",
    "step_slider.layout.width = '40%'\n",
    "\n",
    "fig = plt.figure(figsize=(10,6))\n",
    "fig.canvas.header_visible = False\n",
    "fig.canvas.layout.min_height = '400px'\n",
    "#plt.title('Plotting step: {}'.format(data_x[step_slider.value]['t_s']))\n",
    "\n",
    "line1 = plt.plot(wave_y.grid_x, wave_y.grid_v[0]*1e6, lw=1)\n",
    "\n",
    "plt.xlabel('$x$, м', fontsize=16)\n",
    "plt.ylabel('$u$, мкм', fontsize=16)\n",
    "plt.xlim(0, 7)\n",
    "plt.ylim(-100, 100)\n",
    "plt.grid()\n",
    "\n",
    "\n",
    "def update_lines(change):\n",
    "    #plt.title('Plotting step: {}'.format(data_x[step_slider.value]['t_s']))\n",
    "    line1[0].set_data(wave_y.grid_x, wave_y.grid_v[change.new]*1e6)\n",
    "    fig.canvas.draw()\n",
    "    fig.canvas.flush_events()\n",
    "\n",
    "step_slider.observe(update_lines, names='value')\n",
    "\n",
    "widgets.AppLayout(\n",
    "    center=fig.canvas,\n",
    "    footer=step_slider,\n",
    "    pane_heights=[0, 6, 1]\n",
    ")"
   ]
  },
  {
   "cell_type": "code",
   "execution_count": 50,
   "id": "ed197d99-d75d-43fd-9db6-511d6cfff10e",
   "metadata": {},
   "outputs": [],
   "source": [
    "ampl, x_ampl = find_A(wave_y.grid_v[:,-1], wave_y.grid_t)"
   ]
  },
  {
   "cell_type": "code",
   "execution_count": 53,
   "id": "f140b405-dd88-4003-905f-a4196578304b",
   "metadata": {},
   "outputs": [
    {
     "data": {
      "application/vnd.jupyter.widget-view+json": {
       "model_id": "45a61284b6cc4a25917d0a030bc7885b",
       "version_major": 2,
       "version_minor": 0
      },
      "image/png": "[encoded data removed]",
      "text/html": [
       "\n",
       "            <div style=\"display: inline-block;\">\n",
       "                <div class=\"jupyter-widgets widget-label\" style=\"text-align: center;\">\n",
       "                    Figure\n",
       "                </div>\n",
       "                <img src='data:image/png;base64,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' width=640.0/>\n",
       "            </div>\n",
       "        "
      ],
      "text/plain": [
       "Canvas(toolbar=Toolbar(toolitems=[('Home', 'Reset original view', 'home', 'home'), ('Back', 'Back to previous …"
      ]
     },
     "metadata": {},
     "output_type": "display_data"
    }
   ],
   "source": [
    "fig2, ax = plt.subplots(1,1)\n",
    "ax.plot(wave_y.grid_t[:], wave_y.grid_v[:,-1]*1e6)\n",
    "#plt.yticks(np.arange(-5, 5, 0.5))\n",
    "#ax.scatter(x_ampl, ampl*1e6)\n",
    "#plt.ylim(-7000, -6000)\n",
    "plt.grid()\n",
    "plt.show()"
   ]
  },
  {
   "cell_type": "code",
   "execution_count": 24,
   "id": "d4e8c124-24d4-41e0-ac25-2bd583fd3b65",
   "metadata": {},
   "outputs": [
    {
     "data": {
      "text/plain": [
       "1.1005105076615704"
      ]
     },
     "execution_count": 24,
     "metadata": {},
     "output_type": "execute_result"
    }
   ],
   "source": [
    "dicrement = np.mean(ampl[:-1]/ampl[1:])\n",
    "dicrement"
   ]
  },
  {
   "cell_type": "markdown",
   "id": "b8ace3f9-0333-454f-b48d-f6209b6ee93e",
   "metadata": {
    "jp-MarkdownHeadingCollapsed": true,
    "tags": []
   },
   "source": [
    "### Test"
   ]
  },
  {
   "cell_type": "code",
   "execution_count": 220,
   "id": "3605e06e-e135-4952-8d56-7ee9df2dd517",
   "metadata": {},
   "outputs": [],
   "source": [
    "i = 500\n",
    "x_grid = wave_y.x\n",
    "t_p = wave_y.t[i]"
   ]
  },
  {
   "cell_type": "code",
   "execution_count": 221,
   "id": "d6a8b444-a69a-407a-95b8-a25d6437b941",
   "metadata": {},
   "outputs": [],
   "source": [
    "u_test = func_u(x_grid, t_p) \n",
    "omega = E*F(x_grid)*WaveTang.du_dx(u_test, wave_y.dx) - S(x_grid)*p(x_grid,t_p)"
   ]
  },
  {
   "cell_type": "code",
   "execution_count": 222,
   "id": "ca9cb73b-eaec-4a6e-b362-a9c069532fec",
   "metadata": {},
   "outputs": [
    {
     "data": {
      "text/plain": [
       "array([-3.00406930e+06, -3.19713014e+06, -3.15534416e+06, -3.11277865e+06,\n",
       "       -3.05681856e+06, -3.00496960e+06, -2.93972863e+06, -2.84684137e+06,\n",
       "       -2.77498962e+06, -2.35153389e+06, -2.31723603e+06, -2.23815062e+06,\n",
       "       -2.11587462e+06, -1.98250805e+06, -1.86918596e+06, -1.73381970e+06,\n",
       "       -1.60620551e+06, -1.47521610e+06, -1.33571320e+06, -1.21218431e+06,\n",
       "       -1.06584831e+06, -8.89977664e+05, -7.20824940e+05, -5.50678802e+05,\n",
       "       -3.52502965e+05, -1.45730897e+05,  1.46991608e+04,  3.34004480e+04,\n",
       "        3.76463383e+04,  4.50981959e+04,  4.77968088e+04,  3.98870869e+04,\n",
       "        2.15183719e+04,  1.33687698e+04,  1.92584264e+04,  2.46835880e+04,\n",
       "        2.73727976e+04,  3.06382201e+04,  2.55662721e+04,  2.31127272e+03,\n",
       "        1.31999838e+03,  2.20378171e+04,  1.70471487e+04,  2.05491178e+04,\n",
       "        3.64657297e+04,  3.72787596e+04,  2.62896322e+04,  1.19798510e+04,\n",
       "        6.89339755e+03,  6.19758330e+03,  9.95827715e+03,  1.02135290e+04,\n",
       "        7.33640287e+03,  1.33680066e+04,  2.49449326e+04,  1.95351286e+04,\n",
       "        8.00447956e+03,  4.67335239e+03, -6.10044208e+03, -1.93411636e+03,\n",
       "        9.35884258e+03,  1.05745614e+04,  1.75786771e+04,  1.68140583e+04,\n",
       "        1.52105251e+04,  2.93233087e+04,  3.47753503e+04,  2.23839186e+04,\n",
       "        1.07772138e+04,  6.52558591e+03,  5.79136139e+03,  4.68652770e+03,\n",
       "        1.36489952e+03,  3.31541368e+03,  1.10452127e+04,  1.12344596e+04,\n",
       "        9.47148845e+03,  1.73368759e+04,  2.27195021e+04,  1.78199708e+04,\n",
       "        1.52158301e+04,  1.65525461e+04,  9.95453759e+03,  8.06327915e+03,\n",
       "        1.72085568e+04,  1.85829683e+04,  1.69604870e+04,  1.87441898e+04,\n",
       "        1.95105993e+04,  2.14982826e+04,  1.72437404e+04,  1.00894300e+04,\n",
       "        1.03236669e+04,  1.04362197e+04,  8.74957347e+03,  1.06950127e+04,\n",
       "        1.16578505e+04,  6.79338556e+03, -6.85767217e+02, -5.16571355e+03,\n",
       "       -4.56276947e+03, -4.40484890e+03, -8.25170076e+03, -6.93787418e+03,\n",
       "       -6.05099493e+02, -1.11243502e+03, -3.92520242e+03, -2.00124953e+03,\n",
       "       -6.68144755e+02, -1.48305335e+03, -3.05915548e+03, -3.57746224e+03,\n",
       "        1.29828564e+03,  8.88197894e+03,  1.32399826e+04,  1.60864462e+04,\n",
       "        1.78684235e+04,  1.28722543e+04,  4.21605750e+03,  2.59090690e+02])"
      ]
     },
     "execution_count": 222,
     "metadata": {},
     "output_type": "execute_result"
    }
   ],
   "source": [
    "omega"
   ]
  },
  {
   "cell_type": "code",
   "execution_count": null,
   "id": "43dca069-5520-4f7a-8fd2-0b391c83a235",
   "metadata": {},
   "outputs": [],
   "source": []
  }
 ],
 "metadata": {
  "kernelspec": {
   "display_name": "Python 3 (ipykernel)",
   "language": "python",
   "name": "python3"
  },
  "language_info": {
   "codemirror_mode": {
    "name": "ipython",
    "version": 3
   },
   "file_extension": ".py",
   "mimetype": "text/x-python",
   "name": "python",
   "nbconvert_exporter": "python",
   "pygments_lexer": "ipython3",
   "version": "3.9.12"
  }
 },
 "nbformat": 4,
 "nbformat_minor": 5
}
