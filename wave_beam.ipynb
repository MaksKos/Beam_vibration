{
 "cells": [
  {
   "cell_type": "code",
   "execution_count": 1,
   "id": "5959517f-394e-4824-aa5b-a9bb4fa8df86",
   "metadata": {},
   "outputs": [],
   "source": [
    "import numpy as np\n",
    "from modules import Cannon, Pressure, WaveLong, WaveTang\n",
    "import matplotlib.pyplot as plt\n",
    "from scipy.linalg import solve"
   ]
  },
  {
   "cell_type": "markdown",
   "id": "56b137a7-9e74-4629-b4ac-0dcf56964f1c",
   "metadata": {
    "tags": []
   },
   "source": [
    "# 1. Ballistic and Geometry"
   ]
  },
  {
   "cell_type": "code",
   "execution_count": 2,
   "id": "632b355d-b9be-41a8-bd09-3115d02a31e5",
   "metadata": {},
   "outputs": [],
   "source": [
    "d = 125*1e-3          # калибр м\n",
    "q = 7.05           # вес снаряда кг\n",
    "velocity_pm = 1700         # дульная скорость снаряда\n",
    "n_s = 1           # нарезное орудие\n",
    "max_pressure = 600*1e6    # максимальное давление Па\n",
    "tube_lenght = 5543*1e-3      # длина трубы     \n",
    "p_fors = 10*1e6\n",
    "l_pr = 0.7 # длина снаряда\n",
    "\n",
    "pow_name = \"МАП-1 23/1\"\n",
    "wq, ro = 1.178537, 737.374805\n",
    "\n",
    "rho = 7800\n",
    "E = 200e9\n",
    "vi = 0.25\n",
    "g = 9.81\n",
    "\n",
    "# geometry grid\n",
    "n_x = 500\n",
    "\n",
    "init_dict = {\n",
    "   'powders': \n",
    "    [\n",
    "       {'omega': wq*q,\n",
    "       'dbname': pow_name}\n",
    "    ],\n",
    "    'init_conditions': \n",
    "    {\n",
    "       'q': q,\n",
    "       'd': d,\n",
    "       'W_0': wq*q/ro,\n",
    "       'phi_1': 1.0,\n",
    "       'p_0': p_fors, \n",
    "       'n_S': n_s\n",
    "    },\n",
    "    'igniter': \n",
    "    {\n",
    "       'p_ign_0': 5_000_000.0 #check it \n",
    "    },\n",
    "  \n",
    "    'meta_lagrange': \n",
    "    {\n",
    "       'CFL': 0.9, \n",
    "       'n_cells': 300\n",
    "    },\n",
    "    'stop_conditions': \n",
    "    {\n",
    "       'x_p': tube_lenght,\n",
    "       'steps_max': 8000,   \n",
    "       't_max': 0.08,\n",
    "       'p_max': max_pressure,\n",
    "    }\n",
    "    }"
   ]
  },
  {
   "cell_type": "code",
   "execution_count": 3,
   "id": "e327a6fb-2a8e-4951-b9c7-bf715bce968a",
   "metadata": {},
   "outputs": [],
   "source": [
    "Cannon.ro = rho\n",
    "ball = Pressure(init_dict)\n",
    "ball.calculate()\n",
    "geometry = Cannon()\n",
    "geometry.cannon_geometry(d, ball.l0, ball.l_tube)\n",
    "ball.make_func(geometry.l_kam, l_pr)\n",
    "\n",
    "beam_r2_x = np.array([0, 0.4, 0.5, 0.8, geometry.r_inside_coordinate[-1]])\n",
    "beam_r2 = np.array([0.16, 0.16, 0.16, 0.14, 0.09])\n",
    "geometry.outside_geometry(beam_r2_x, beam_r2)\n",
    "geometry.make_func()\n",
    "geometry.make_dsdx(n_x)"
   ]
  },
  {
   "cell_type": "markdown",
   "id": "9a3237c5-9faf-456f-9929-fba3a221aa3e",
   "metadata": {
    "jp-MarkdownHeadingCollapsed": true,
    "tags": []
   },
   "source": [
    "# 3. Wave x (long)"
   ]
  },
  {
   "cell_type": "code",
   "execution_count": 19,
   "id": "46459370-ed69-45cc-a387-b9dd65495d55",
   "metadata": {},
   "outputs": [],
   "source": [
    "displ = 0 \n",
    "n_t = 1000\n",
    "\n",
    "dt = ball.t_end/n_t\n",
    "T = ball.t_end # time stop\n",
    "T_st = 0\n",
    "L = geometry.L - displ\n",
    "C = 0.75 # the Courant number (=max(c)*dt/dx)."
   ]
  },
  {
   "cell_type": "markdown",
   "id": "8f9a89a7-39c1-48bc-9254-8366baf3f569",
   "metadata": {
    "tags": []
   },
   "source": [
    "### Solve euption"
   ]
  },
  {
   "cell_type": "code",
   "execution_count": 7,
   "id": "5b55df2f-064f-4c09-ae35-3902cf02ef51",
   "metadata": {},
   "outputs": [
    {
     "name": "stdout",
     "output_type": "stream",
     "text": [
      "\n",
      " T: 0.008\n",
      " T_st: 0\n",
      " Mass: False\n",
      " Pressure: True\n",
      "\n",
      "N_x =  119\n",
      "CPU times: total: 15.8 s\n",
      "Wall time: 15.9 s\n"
     ]
    }
   ],
   "source": [
    "%%time\n",
    "wave_x = WaveLong(geometry, T, dt, T_st, mass_on=False)\n",
    "wave_x.add_pressure(ball, projectile=False)\n",
    "wave_x.solver()"
   ]
  },
  {
   "cell_type": "code",
   "execution_count": 8,
   "id": "98d4a80b-2c64-4c02-a984-d1d4a373f865",
   "metadata": {},
   "outputs": [
    {
     "data": {
      "text/plain": [
       "((1001, 120), (0,))"
      ]
     },
     "execution_count": 8,
     "metadata": {},
     "output_type": "execute_result"
    }
   ],
   "source": [
    "wave_x.grid_u.shape, wave_x.grid_t[100_000:].shape"
   ]
  },
  {
   "cell_type": "code",
   "execution_count": 9,
   "id": "c827c196-30bb-42fb-8552-ae8d96f81db9",
   "metadata": {},
   "outputs": [],
   "source": [
    "def u(x, t):\n",
    "    if t < 0:\n",
    "        return np.zeros_like(x)\n",
    "    points = np.array([x, (t+wave_x.T_st)*np.ones_like(x)]).T\n",
    "    return wave_x.u(points)"
   ]
  },
  {
   "cell_type": "code",
   "execution_count": 10,
   "id": "6a7e73f2-da35-4663-94d0-f0cacded23ed",
   "metadata": {},
   "outputs": [
    {
     "data": {
      "text/plain": [
       "array([-0.000147])"
      ]
     },
     "execution_count": 10,
     "metadata": {},
     "output_type": "execute_result"
    }
   ],
   "source": [
    "u(6, ball.t_end/1.2)"
   ]
  },
  {
   "cell_type": "markdown",
   "id": "840d8d1e-0177-471d-b69f-526ea525641b",
   "metadata": {
    "jp-MarkdownHeadingCollapsed": true,
    "tags": []
   },
   "source": [
    "### Vizualization"
   ]
  },
  {
   "cell_type": "code",
   "execution_count": 11,
   "id": "2d6e1f24-6224-42e5-98d7-7fb032a7a924",
   "metadata": {},
   "outputs": [],
   "source": [
    "%matplotlib widget\n",
    "import matplotlib.pyplot as plt\n",
    "import ipywidgets as widgets"
   ]
  },
  {
   "cell_type": "code",
   "execution_count": 12,
   "id": "f7596d3f-5c07-45c6-96b1-22a362e3be33",
   "metadata": {},
   "outputs": [],
   "source": [
    "#%matplotlib inline \n",
    "#%config InlineBackend.figure_format = 'svg' \n",
    "rc = {\"font.family\" : \"serif\", \n",
    "      \"mathtext.fontset\" : \"stix\"}\n",
    "plt.rcParams.update(rc)\n",
    "plt.rcParams[\"font.serif\"] = [\"Times New Roman\"] + plt.rcParams[\"font.serif\"]"
   ]
  },
  {
   "cell_type": "code",
   "execution_count": 13,
   "id": "a3491f1b-5c8c-46a4-b31e-6c07c4cae060",
   "metadata": {
    "tags": []
   },
   "outputs": [
    {
     "data": {
      "application/vnd.jupyter.widget-view+json": {
       "model_id": "68d5a4af57c1429d9bb0c661643ba7d6",
       "version_major": 2,
       "version_minor": 0
      },
      "text/plain": [
       "AppLayout(children=(IntSlider(value=0, description='step', layout=Layout(grid_area='footer', margin='0px 30% 0…"
      ]
     },
     "metadata": {},
     "output_type": "display_data"
    }
   ],
   "source": [
    "plt.ioff()\n",
    "\n",
    "i_start = wave_x.grid_u.shape[0] - round(T/wave_x.dt)\n",
    "\n",
    "step_slider = widgets.IntSlider(\n",
    "    orientation='horizontal',\n",
    "    value=0, \n",
    "    min=0, max=wave_x.grid_t[i_start:].shape[0], step=1, \n",
    "    description='step'\n",
    ")\n",
    "\n",
    "step_slider.layout.margin = '0px 30% 0px 30%'\n",
    "step_slider.layout.width = '40%'\n",
    "\n",
    "fig = plt.figure(figsize=(10,6))\n",
    "fig.canvas.header_visible = False\n",
    "fig.canvas.layout.min_height = '400px'\n",
    "#plt.title('Plotting step: {}'.format(data_x[step_slider.value]['t_s']))\n",
    "\n",
    "#line1 = plt.plot(grid_x, u[0]*1e6, lw=1)\n",
    "line2 = plt.plot(wave_x.grid_x, wave_x.grid_u[i_start]*1e6, lw=1)\n",
    "\n",
    "plt.xlabel('$x$, м', fontsize=16)\n",
    "plt.ylabel('$u$, мкм', fontsize=16)\n",
    "plt.xlim(0, 7)\n",
    "plt.ylim(-200, 200)\n",
    "plt.grid()\n",
    "\n",
    "\n",
    "def update_lines(change):\n",
    "    #plt.title('Plotting step: {}'.format(data_x[step_slider.value]['t_s']))\n",
    "    #line1[0].set_data(grid_x, u[change.new]*1e6)\n",
    "    line2[0].set_data(wave_x.grid_x, wave_x.grid_u[i_start+change.new]*1e6)\n",
    "    fig.canvas.draw()\n",
    "    fig.canvas.flush_events()\n",
    "\n",
    "step_slider.observe(update_lines, names='value')\n",
    "\n",
    "widgets.AppLayout(\n",
    "    center=fig.canvas,\n",
    "    footer=step_slider,\n",
    "    pane_heights=[0, 6, 1]\n",
    ")"
   ]
  },
  {
   "cell_type": "code",
   "execution_count": 15,
   "id": "0a3a1ee9-c559-4ae6-9fc5-e2145531c475",
   "metadata": {},
   "outputs": [
    {
     "data": {
      "application/vnd.jupyter.widget-view+json": {
       "model_id": "c55324a045aa4113889278855599c0d5",
       "version_major": 2,
       "version_minor": 0
      },
      "image/png": "[encoded data removed]",
      "text/html": [
       "\n",
       "            <div style=\"display: inline-block;\">\n",
       "                <div class=\"jupyter-widgets widget-label\" style=\"text-align: center;\">\n",
       "                    Figure\n",
       "                </div>\n",
       "                <img src='data:image/png;base64,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' width=640.0/>\n",
       "            </div>\n",
       "        "
      ],
      "text/plain": [
       "Canvas(toolbar=Toolbar(toolitems=[('Home', 'Reset original view', 'home', 'home'), ('Back', 'Back to previous …"
      ]
     },
     "metadata": {},
     "output_type": "display_data"
    }
   ],
   "source": [
    "#%matplotlib inline \n",
    "#%config InlineBackend.figure_format = 'svg' \n",
    "fig2, ax = plt.subplots(1,1)\n",
    "ax.plot(wave_x.grid_t[::100], wave_x.grid_u[::100,-1]*1e6)\n",
    "ax.set_yticks(np.arange(-5, 5, 5))\n",
    "plt.grid()\n",
    "plt.show()"
   ]
  },
  {
   "cell_type": "markdown",
   "id": "4815d57b-9559-4e99-a84f-c652e9a40b3c",
   "metadata": {
    "jp-MarkdownHeadingCollapsed": true,
    "tags": []
   },
   "source": [
    "# 4. Wave y (tang)"
   ]
  },
  {
   "cell_type": "code",
   "execution_count": 14,
   "id": "8c296dce-2356-4842-bb1d-05c03e409d62",
   "metadata": {},
   "outputs": [],
   "source": [
    "def find_A(u, x):\n",
    "    \n",
    "    arr_u = []\n",
    "    arr_x = []\n",
    "    add = False \n",
    "    b = u[-1]\n",
    "    c = x[-1]\n",
    "    for i in range(len(u)-1, -1, -1):\n",
    "        if u[i] > b:\n",
    "            add = True\n",
    "            b = u[i]\n",
    "            c = x[i]\n",
    "        elif add:\n",
    "            add = False\n",
    "            arr_u.append(b)\n",
    "            arr_x.append(c)\n",
    "    return np.array(arr_u[::-1]), np.array(arr_x[::-1])"
   ]
  },
  {
   "cell_type": "code",
   "execution_count": 20,
   "id": "9ae1e9eb-5c74-42b8-a263-45ce6a8df98f",
   "metadata": {},
   "outputs": [
    {
     "data": {
      "text/plain": [
       "(0.007916475936787449, 7.91647593678745e-06)"
      ]
     },
     "execution_count": 20,
     "metadata": {},
     "output_type": "execute_result"
    }
   ],
   "source": [
    "ball.t_end, dt"
   ]
  },
  {
   "cell_type": "code",
   "execution_count": 81,
   "id": "b40d99a7-f7e7-487c-8f97-b1dd0f4f9524",
   "metadata": {},
   "outputs": [],
   "source": [
    "T_st = 6\n",
    "T = 5*ball.t_end\n",
    "dt = 5e-5\n",
    "dx = 1e-2"
   ]
  },
  {
   "cell_type": "code",
   "execution_count": 82,
   "id": "f044fbd2-62f2-46f5-a422-267458d14c4a",
   "metadata": {},
   "outputs": [
    {
     "data": {
      "text/plain": [
       "(0.03958237968393724, 5e-05, 0.01)"
      ]
     },
     "execution_count": 82,
     "metadata": {},
     "output_type": "execute_result"
    }
   ],
   "source": [
    "T, dt, dx"
   ]
  },
  {
   "cell_type": "code",
   "execution_count": 83,
   "id": "bb126f26-1cb1-4909-b276-4f423f4c2f66",
   "metadata": {},
   "outputs": [],
   "source": [
    "wave_y = WaveTang(geometry, T, dt,T_st=T_st, mass_on=True, dx_user=dx)\n",
    "#wave_y.add_pressure(ball, u, projectile=True)\n",
    "wave_y.init_condition()"
   ]
  },
  {
   "cell_type": "code",
   "execution_count": 84,
   "id": "35cd948f-b9fe-4f5d-8679-df20cee10ee2",
   "metadata": {},
   "outputs": [
    {
     "data": {
      "text/plain": [
       "(120792, 636, 0.009993372289296594, 5e-05)"
      ]
     },
     "execution_count": 84,
     "metadata": {},
     "output_type": "execute_result"
    }
   ],
   "source": [
    "wave_y.Nt, wave_y.Nx, wave_y.dx, wave_y.dt"
   ]
  },
  {
   "cell_type": "code",
   "execution_count": 85,
   "id": "bacaba50-0451-4bbe-a574-1cc40f8c7bb5",
   "metadata": {},
   "outputs": [
    {
     "name": "stdout",
     "output_type": "stream",
     "text": [
      "CPU times: total: 56.2 s\n",
      "Wall time: 56.3 s\n"
     ]
    }
   ],
   "source": [
    "%%time\n",
    "wave_y.solver()"
   ]
  },
  {
   "cell_type": "markdown",
   "id": "9641aff2-c287-4c7a-8321-bbd022dbd75e",
   "metadata": {
    "tags": []
   },
   "source": [
    "### Vizualization"
   ]
  },
  {
   "cell_type": "code",
   "execution_count": 51,
   "id": "c6c07bc0-764f-4384-a535-8958d7311c96",
   "metadata": {},
   "outputs": [],
   "source": [
    "%matplotlib widget\n",
    "import matplotlib.pyplot as plt\n",
    "import ipywidgets as widgets"
   ]
  },
  {
   "cell_type": "code",
   "execution_count": 54,
   "id": "9a278307-9d82-4b4b-b048-f8f505c2bfb9",
   "metadata": {},
   "outputs": [],
   "source": [
    "#%matplotlib inline \n",
    "#%config InlineBackend.figure_format = 'svg' \n",
    "rc = {\"font.family\" : \"serif\", \n",
    "      \"mathtext.fontset\" : \"stix\"}\n",
    "plt.rcParams.update(rc)\n",
    "plt.rcParams[\"font.serif\"] = [\"Times New Roman\"] + plt.rcParams[\"font.serif\"]"
   ]
  },
  {
   "cell_type": "code",
   "execution_count": 55,
   "id": "9f1f6190-ca37-4463-bd24-80b72de3f88c",
   "metadata": {
    "tags": []
   },
   "outputs": [
    {
     "ename": "IndexError",
     "evalue": "list index out of range",
     "output_type": "error",
     "traceback": [
      "\u001b[1;31m---------------------------------------------------------------------------\u001b[0m",
      "\u001b[1;31mIndexError\u001b[0m                                Traceback (most recent call last)",
      "Input \u001b[1;32mIn [55]\u001b[0m, in \u001b[0;36m<cell line: 18>\u001b[1;34m()\u001b[0m\n\u001b[0;32m     15\u001b[0m fig\u001b[38;5;241m.\u001b[39mcanvas\u001b[38;5;241m.\u001b[39mlayout\u001b[38;5;241m.\u001b[39mmin_height \u001b[38;5;241m=\u001b[39m \u001b[38;5;124m'\u001b[39m\u001b[38;5;124m400px\u001b[39m\u001b[38;5;124m'\u001b[39m\n\u001b[0;32m     16\u001b[0m \u001b[38;5;66;03m#plt.title('Plotting step: {}'.format(data_x[step_slider.value]['t_s']))\u001b[39;00m\n\u001b[1;32m---> 18\u001b[0m line1 \u001b[38;5;241m=\u001b[39m plt\u001b[38;5;241m.\u001b[39mplot(wave_y\u001b[38;5;241m.\u001b[39mgrid_x, \u001b[43mwave_y\u001b[49m\u001b[38;5;241;43m.\u001b[39;49m\u001b[43mgrid_v\u001b[49m\u001b[43m[\u001b[49m\u001b[38;5;241;43m0\u001b[39;49m\u001b[43m]\u001b[49m\u001b[38;5;241m*\u001b[39m\u001b[38;5;241m1e6\u001b[39m, lw\u001b[38;5;241m=\u001b[39m\u001b[38;5;241m1\u001b[39m)\n\u001b[0;32m     20\u001b[0m plt\u001b[38;5;241m.\u001b[39mxlabel(\u001b[38;5;124m'\u001b[39m\u001b[38;5;124m$x$, м\u001b[39m\u001b[38;5;124m'\u001b[39m, fontsize\u001b[38;5;241m=\u001b[39m\u001b[38;5;241m16\u001b[39m)\n\u001b[0;32m     21\u001b[0m plt\u001b[38;5;241m.\u001b[39mylabel(\u001b[38;5;124m'\u001b[39m\u001b[38;5;124m$u$, мкм\u001b[39m\u001b[38;5;124m'\u001b[39m, fontsize\u001b[38;5;241m=\u001b[39m\u001b[38;5;241m16\u001b[39m)\n",
      "\u001b[1;31mIndexError\u001b[0m: list index out of range"
     ]
    }
   ],
   "source": [
    "plt.ioff()\n",
    "\n",
    "step_slider = widgets.IntSlider(\n",
    "    orientation='horizontal',\n",
    "    value=0, \n",
    "    min=0, max=wave_y.Nt, step=100, \n",
    "    description='step'\n",
    ")\n",
    "\n",
    "step_slider.layout.margin = '0px 30% 0px 30%'\n",
    "step_slider.layout.width = '40%'\n",
    "\n",
    "fig = plt.figure(figsize=(10,6))\n",
    "fig.canvas.header_visible = False\n",
    "fig.canvas.layout.min_height = '400px'\n",
    "#plt.title('Plotting step: {}'.format(data_x[step_slider.value]['t_s']))\n",
    "\n",
    "line1 = plt.plot(wave_y.grid_x, wave_y.grid_v[0]*1e6, lw=1)\n",
    "\n",
    "plt.xlabel('$x$, м', fontsize=16)\n",
    "plt.ylabel('$u$, мкм', fontsize=16)\n",
    "plt.xlim(0, 7)\n",
    "plt.ylim(-100, 100)\n",
    "plt.grid()\n",
    "\n",
    "\n",
    "def update_lines(change):\n",
    "    #plt.title('Plotting step: {}'.format(data_x[step_slider.value]['t_s']))\n",
    "    line1[0].set_data(wave_y.grid_x, wave_y.grid_v[change.new]*1e6)\n",
    "    fig.canvas.draw()\n",
    "    fig.canvas.flush_events()\n",
    "\n",
    "step_slider.observe(update_lines, names='value')\n",
    "\n",
    "widgets.AppLayout(\n",
    "    center=fig.canvas,\n",
    "    footer=step_slider,\n",
    "    pane_heights=[0, 6, 1]\n",
    ")"
   ]
  },
  {
   "cell_type": "code",
   "execution_count": 79,
   "id": "ed197d99-d75d-43fd-9db6-511d6cfff10e",
   "metadata": {},
   "outputs": [],
   "source": [
    "ampl, x_ampl = find_A(wave_y.grid_v[:,-1], wave_y.grid_t)"
   ]
  },
  {
   "cell_type": "code",
   "execution_count": 86,
   "id": "f140b405-dd88-4003-905f-a4196578304b",
   "metadata": {},
   "outputs": [
    {
     "data": {
      "application/vnd.jupyter.widget-view+json": {
       "model_id": "aa334386f79e47ad80560e39344b3b2b",
       "version_major": 2,
       "version_minor": 0
      },
      "image/png": "[encoded data removed]",
      "text/html": [
       "\n",
       "            <div style=\"display: inline-block;\">\n",
       "                <div class=\"jupyter-widgets widget-label\" style=\"text-align: center;\">\n",
       "                    Figure\n",
       "                </div>\n",
       "                <img src='data:image/png;base64,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' width=640.0/>\n",
       "            </div>\n",
       "        "
      ],
      "text/plain": [
       "Canvas(toolbar=Toolbar(toolitems=[('Home', 'Reset original view', 'home', 'home'), ('Back', 'Back to previous …"
      ]
     },
     "metadata": {},
     "output_type": "display_data"
    }
   ],
   "source": [
    "fig2, ax = plt.subplots(1,1)\n",
    "ax.plot(wave_y.grid_t[:], wave_y.grid_v[:,-1]*1e6)\n",
    "#plt.yticks(np.arange(-5, 5, 0.5))\n",
    "ax.scatter(x_ampl, ampl*1e6)\n",
    "plt.ylim(-7000, -6000)\n",
    "plt.grid()\n",
    "plt.show()"
   ]
  },
  {
   "cell_type": "code",
   "execution_count": 45,
   "id": "d4e8c124-24d4-41e0-ac25-2bd583fd3b65",
   "metadata": {},
   "outputs": [
    {
     "data": {
      "text/plain": [
       "0.873715988668518"
      ]
     },
     "execution_count": 45,
     "metadata": {},
     "output_type": "execute_result"
    }
   ],
   "source": [
    "dicrement = np.mean(ampl[:-1]/ampl[1:])\n",
    "dicrement"
   ]
  },
  {
   "cell_type": "markdown",
   "id": "b8ace3f9-0333-454f-b48d-f6209b6ee93e",
   "metadata": {
    "tags": []
   },
   "source": [
    "# 5. Furie Wave"
   ]
  },
  {
   "cell_type": "code",
   "execution_count": 87,
   "id": "3605e06e-e135-4952-8d56-7ee9df2dd517",
   "metadata": {},
   "outputs": [],
   "source": [
    "i = 10\n",
    "n_x = 1000"
   ]
  },
  {
   "cell_type": "code",
   "execution_count": 429,
   "id": "43dca069-5520-4f7a-8fd2-0b391c83a235",
   "metadata": {},
   "outputs": [],
   "source": [
    "class FourierWave:\n",
    "    \n",
    "    g = 9.81\n",
    "    epsilon = 0.021\n",
    "    E = 200e9\n",
    "    \n",
    "    def __init__(self, geometry, nx, i=3, seal_move=0):\n",
    "        \n",
    "        self.geom = geometry\n",
    "        self._L = geometry.L \n",
    "        self.nx = nx\n",
    "        self.forms = i\n",
    "        \n",
    "    def calc_coeff(self):\n",
    "        \n",
    "        x = np.linspace(0, self._L, self.nx)\n",
    "        F = self.geom.F(x)\n",
    "        J = self.geom.J(x)\n",
    "        F_h = (F[1:]+F[:-1])/2\n",
    "        J_h = (J[1:]+J[:-1])/2\n",
    "        rho = self.geom.ro\n",
    "        E = self.E\n",
    "        dx = x[1] - x[0]\n",
    "        self.mass = np.sum(F_h*dx*rho)\n",
    "        self.inert = np.sum(J_h*dx*E)\n",
    "        self.k = np.full(self.forms, rho)\n",
    "        self.c = np.full(self.forms, rho)\n",
    "        self.b = np.full(self.forms, E)\n",
    "        for i in range(1, self.forms+1):\n",
    "            a = np.pi*i/2/self._L\n",
    "            self.k[i-1] *= np.sum(F_h*self.integ_1(a, x))\n",
    "            self.c[i-1] *= np.sum(F_h*self.integ_2(a, x))\n",
    "            self.b[i-1] *= np.abs(np.sum(J_h*self.integ_3(a, x)))\n",
    "        \n",
    "        self.omega = np.sqrt(self.b/self.c)\n",
    "        self.A = self.k/self.b/self.omega/self.epsilon\n",
    "    \n",
    "    @staticmethod           \n",
    "    def integ_1(a, x):\n",
    "        #integ = -1/a*np.cos(a*x)\n",
    "        integ = x - np.sin(a*x)/a\n",
    "        return integ[1:] - integ[:-1]\n",
    "    \n",
    "    @staticmethod \n",
    "    def integ_2(a, x):\n",
    "        #integ = 1/2/a*(a*x - np.sin(a*x)*np.cos(a*x))\n",
    "        ##integ = 1/a*(np.sin(a*x) - 2*np.arctan(np.tanh(a*x/2)))\n",
    "        integ = 0.25/a*(6*a*x - 8*np.sin(a*x) + np.sin(2*a*x))\n",
    "        return integ[1:] - integ[:-1]\n",
    "    \n",
    "    @staticmethod \n",
    "    def integ_3(a, x):\n",
    "        #integ = a**3/2*(a*x - np.sin(a*x)*np.cos(a*x))\n",
    "        ##integ = a**3*(np.sin(a*x) - 5*np.tanh(a*x)*(1/np.cosh(a*x))**3 + np.tanh(a*x)**3*(1/np.cosh(a*x)))\n",
    "        integ = 0.25*a**3*(2*a*x - 4*np.sin(a*x) + np.sin(2*a*x))\n",
    "        return integ[1:] - integ[:-1]\n",
    "    \n",
    "    def u(self, x):\n",
    "        y = np.zeros_like(x)\n",
    "        for i in range(1, self.forms+1):\n",
    "            arg = i*np.pi/2/self._L*x\n",
    "            y += self.g*self.k[i-1]/self.b[i-1]*(1-np.cos(arg))#np.sin(arg)#\n",
    "        return y\n",
    "    "
   ]
  },
  {
   "cell_type": "code",
   "execution_count": 430,
   "id": "e8cdf1a5-100d-4b50-b858-a03b8d9632df",
   "metadata": {},
   "outputs": [],
   "source": [
    "fourie = FourierWave(geometry, 1000, 3)"
   ]
  },
  {
   "cell_type": "code",
   "execution_count": 431,
   "id": "9dc46d40-def3-4ab6-b8a3-0a5ef67dd8db",
   "metadata": {},
   "outputs": [],
   "source": [
    "fourie.calc_coeff()"
   ]
  },
  {
   "cell_type": "code",
   "execution_count": 432,
   "id": "e5e5abe6-543c-4665-be08-8b629f7e2b44",
   "metadata": {},
   "outputs": [
    {
     "data": {
      "text/plain": [
       "(array([ 409, 1197, 1638]),\n",
       " array([   79359.23799699,  1765788.66678832, 25120286.73454156]),\n",
       " array([ 219, 1593, 2482]))"
      ]
     },
     "execution_count": 432,
     "metadata": {},
     "output_type": "execute_result"
    }
   ],
   "source": [
    "fourie.k, fourie.b, fourie.c"
   ]
  },
  {
   "cell_type": "code",
   "execution_count": 433,
   "id": "31d7046e-84fc-4fe9-ac6d-38ecf53ce282",
   "metadata": {},
   "outputs": [
    {
     "data": {
      "text/plain": [
       "array([ 19.03604344,  33.29365498, 100.60311025])"
      ]
     },
     "execution_count": 433,
     "metadata": {},
     "output_type": "execute_result"
    }
   ],
   "source": [
    "fourie.omega"
   ]
  },
  {
   "cell_type": "code",
   "execution_count": 434,
   "id": "f02cdcb6-7acc-4d76-8ada-960786cd6311",
   "metadata": {},
   "outputs": [
    {
     "data": {
      "text/plain": [
       "array([1.28922832e-02, 9.69559924e-04, 3.08644543e-05])"
      ]
     },
     "execution_count": 434,
     "metadata": {},
     "output_type": "execute_result"
    }
   ],
   "source": [
    "fourie.A"
   ]
  },
  {
   "cell_type": "code",
   "execution_count": 435,
   "id": "92e28263-5799-4d79-a008-36f4934b5eb0",
   "metadata": {},
   "outputs": [
    {
     "data": {
      "text/plain": [
       "array([5.15377932e-03, 6.77884065e-04, 6.52062621e-05])"
      ]
     },
     "execution_count": 435,
     "metadata": {},
     "output_type": "execute_result"
    }
   ],
   "source": [
    "fourie.k/fourie.b"
   ]
  },
  {
   "cell_type": "code",
   "execution_count": 436,
   "id": "a6c65b3c-b085-43ff-9506-701748f61652",
   "metadata": {},
   "outputs": [
    {
     "data": {
      "application/vnd.jupyter.widget-view+json": {
       "model_id": "034ab5bf882b4a4d8ee733b721a8fed5",
       "version_major": 2,
       "version_minor": 0
      },
      "image/png": "[encoded data removed]",
      "text/html": [
       "\n",
       "            <div style=\"display: inline-block;\">\n",
       "                <div class=\"jupyter-widgets widget-label\" style=\"text-align: center;\">\n",
       "                    Figure\n",
       "                </div>\n",
       "                <img src='data:image/png;base64,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' width=640.0/>\n",
       "            </div>\n",
       "        "
      ],
      "text/plain": [
       "Canvas(toolbar=Toolbar(toolitems=[('Home', 'Reset original view', 'home', 'home'), ('Back', 'Back to previous …"
      ]
     },
     "metadata": {},
     "output_type": "display_data"
    }
   ],
   "source": [
    "x = np.linspace(0, geometry.L, 100)\n",
    "\n",
    "fig3, ax1 = plt.subplots(1,1)\n",
    "ax1.plot(x, fourie.u(x))\n",
    "#plt.yticks(np.arange(-5, 5, 0.5))\n",
    "#ax.scatter(x_ampl, ampl*1e6)\n",
    "#plt.ylim(-7000, -6000)\n",
    "plt.grid()\n",
    "plt.show()"
   ]
  },
  {
   "cell_type": "markdown",
   "id": "59a698fb-b007-4a0c-ad8b-16c8db53a5d0",
   "metadata": {},
   "source": [
    "### Solve Krulov"
   ]
  },
  {
   "cell_type": "code",
   "execution_count": 374,
   "id": "b39d033b-8d74-4b2a-88ec-88122de2e56c",
   "metadata": {},
   "outputs": [],
   "source": [
    "from scipy.linalg import solve"
   ]
  },
  {
   "cell_type": "code",
   "execution_count": 375,
   "id": "6e528ce0-1523-418f-b632-35a883a014e1",
   "metadata": {},
   "outputs": [],
   "source": [
    "def S(z):\n",
    "    return 0.5*(np.cosh(z) + np.cos(z))\n",
    "def T(z):\n",
    "    return 0.5*(np.sinh(z) + np.sin(z))\n",
    "def U(z):\n",
    "    return 0.5*(np.cosh(z) - np.cos(z))\n",
    "def V(z):\n",
    "    return 0.5*(np.sinh(z) - np.sin(z))"
   ]
  },
  {
   "cell_type": "code",
   "execution_count": 376,
   "id": "65fe271a-e5c4-44fc-ad5e-992e61f700cd",
   "metadata": {},
   "outputs": [],
   "source": [
    "n = 10\n",
    "z_k = [1.875] + [np.pi/2 + np.pi*(k-1) for k in range(2, n+1)]"
   ]
  },
  {
   "cell_type": "code",
   "execution_count": 377,
   "id": "3c0db9a2-8633-416f-9b0c-3bdd3147a221",
   "metadata": {},
   "outputs": [],
   "source": [
    "A = []\n",
    "for z in z_k:\n",
    "    A.append(np.array([\n",
    "        [S(z), T(z)],\n",
    "        [V(z), S(z)]\n",
    "    ]))"
   ]
  },
  {
   "cell_type": "code",
   "execution_count": 378,
   "id": "48231fde-0d15-4058-b2a2-25969f76b126",
   "metadata": {},
   "outputs": [],
   "source": [
    "l = 6\n",
    "a_k = np.array(z_k)/l"
   ]
  },
  {
   "cell_type": "code",
   "execution_count": 385,
   "id": "f80320ad-a577-4741-ae7e-a5323c617b6d",
   "metadata": {},
   "outputs": [],
   "source": [
    "def w_z(x, i):\n",
    "    return U(a_k[i]*x) - V(a_k[i]*x)*S(z_k[i])/T(z_k[i])"
   ]
  },
  {
   "cell_type": "code",
   "execution_count": 386,
   "id": "1d06040f-d916-41eb-b38d-6a04d20af872",
   "metadata": {},
   "outputs": [
    {
     "data": {
      "application/vnd.jupyter.widget-view+json": {
       "model_id": "1aac055e516c467382cbe0497b714506",
       "version_major": 2,
       "version_minor": 0
      },
      "image/png": "[encoded data removed]",
      "text/html": [
       "\n",
       "            <div style=\"display: inline-block;\">\n",
       "                <div class=\"jupyter-widgets widget-label\" style=\"text-align: center;\">\n",
       "                    Figure\n",
       "                </div>\n",
       "                <img src='data:image/png;base64,iVBORw0KGgoAAAANSUhEUgAAAoAAAAHgCAYAAAA10dzkAAAAOXRFWHRTb2Z0d2FyZQBNYXRwbG90bGliIHZlcnNpb24zLjUuMSwgaHR0cHM6Ly9tYXRwbG90bGliLm9yZy/YYfK9AAAACXBIWXMAAA9hAAAPYQGoP6dpAABC/klEQVR4nO3dd3wUBf7/8fembJaQRkgogUDoCEo3wY4KCPZ6JwgqYFCwHmcBz/t5nCh4op7fOxUpivQTOD0VuQML6IkkNOlVSiCBhBBINm1Ldn9/RHJGioskmd2d1/Px4KE7TIY3n2x238zszFi8Xq9XAAAAMI0QowMAAACgblEAAQAATIYCCAAAYDIUQAAAAJOhAAIAAJgMBRAAAMBkKIAAAAAmQwEEAAAwGQogAACAyVAAAQAATIYCCAAAYDIUQAAAAJOhAAIAAJgMBRAAAMBkKIAAAAAmQwEEAAAwGQogAACAyVAAAQAATIYCCAAAYDIUQAAAAJOhAAIAAJgMBRAAAMBkKIAAAAAmQwEEAAAwGQogAACAyVAAAQAATIYCCAAAYDIUQAAAAJOhAAIAAJgMBRAAAMBkKIAAAAAmQwEEAAAwGQogAACAyVAAAQAATIYCCAAAYDIUQAAAAJOhAAIAAJgMBRAAAMBkKIAAAAAmQwEEAAAwGQogAACAyVAAAQAATIYCCAAAYDIUQAAAAJOhAAIAAJgMBRAAAMBkKIAAAAAmQwEEAAAwGQogAACAyVAAAQAATIYCCAAAYDIUQAAAAJOhAAIAAJgMBRAAAMBkKIAAAAAmQwEEAAAwmTCjAwQyj8ejnJwcRUdHy2KxGB0HAAD4wOv1ym63KykpSSEh5twXRgE8Dzk5OUpOTjY6BgAA+BUOHjyo5s2bGx3DEBTA8xAdHS2p8gkUExNTo9t2uVxatmyZ+vfvr/Dw8BrddrBhVr5jVr5jVr5jVr5jVr6rzVkVFRUpOTm56n3cjCiA5+HkYd+YmJhaKYCRkZGKiYnhReIXMCvfMSvfMSvfMSvfMSvf1cWszPzxLXMe+AYAADAxCiAAAIDJUAABAABMhgIIAABgMhRAAAAAk6EAAgAAmAwFEAAAwGQogAAAACZDAQQAADCZoC6AS5cuVWpqqvbv33/GdT7++GM9/vjjeuihh/T555/XXTgAAACDBO2t4PLy8uR2u7VmzZozrrNjxw5NmDBBGRkZ8nq96tWrlz755BM1a9asDpMCAADUraDdA9ioUSPdcMMNZ13nr3/9qwYMGCCLxaKQkBBdcsklevvtt+soIQAAOBuP1+gEwSto9wBKUkjI2fvtl19+qWeeeabqcbt27bR48eIzru9wOORwOKoeFxUVSaq8YbXL5TrPtNWd3F5NbzcYMSvfMSvfMSvfMSvfMSvfbcwq0CubQtWxV6HaNo6t0W0z/yAvgL8kOztb8fHxVY+jo6OVk5NzxvUnTpyo8ePHn7J82bJlioyMrJWMy5cvr5XtBiNm5Ttm5Ttm5Ttm5TtmdXbZJdLft4Wq1G3RuPnfaVh7T41uv7S0tEa3F4hMXQAtFotsNlvVY6fTqfDw8DOuP27cOI0ZM6bqcVFRkZKTk9W/f3/FxMTUaDaXy6Xly5erX79+Z80EZnUumJXvmJXvmJXvmNUv251XrPHvrlGp26WWUV5NfeAqNYiqV6N/xskjeGZm6gKYlJSkwsLCqsd2u11JSUlnXD8iIkIRERGnLA8PD6+1H+Ta3HawYVa+Y1a+Y1a+Y1a+Y1ant/dose6buU4FJS51TorWkGbH1SCqXo3PitkH8Ukgvrj22mu1a9euqsd79uzR1VdfbWAiAADM6cCxEg2elqGjdoc6NonWzPt6KdLUu6lqV1AXQK/XW+2/kjR58mTt3LlTkqpd+8/tdiszM1Pp6el1HxQAABM7WFCqwdMydKSoXO0aRWnuA2mKi2QvXW0K2gJYXFysKVOmSJLef/995efnS5Lmz5+vzZs3S5K6du2qYcOG6cknn9SYMWP0+uuvq0mTJoZlBgDAbHJOlGnw9NXKPlGm1on1NTc9TQ2jTv24FWpW0O5cjYqK0qhRozRq1Khqy9etW1ft8bBhw+oyFgAA+FFuUbnumZ6hgwVlatkwUvMe6K1G0bZf/kKct6DdAwgAAPzXUbtDg6et1r78EjVvUE/z0nurSSzlr65QAAEAQJ0qKHFqyPQM/XC0REmxNs1P761mcTV7qRecHQUQAADUmROlleVvZ65djaIjNC+9t5Lja+dmCjgzCiAAAKgTReUu3ftuprYdLlJCVGX5S0mob3QsU6IAAgCAWlfscOu+dzO16VCh4utbNS89TW0bRRkdy7QogAAAoFaVOt0a9l6mNmSdUGy9cM0Zkab2jaONjmVqFEAAAFBrypwVGjFzrdbsP65oW5jmjEhTp6QYo2OZHgUQAADUinJXhUbOXqvv9h5TVESYZg1P1UXNY42OBVEAAQBALXC6PRo9d72+2Z2vSGuo3ht2sbq3aGB0LPyIAggAAGqUq8KjR+at15c78mQLD9GM+y7WxSnxRsfCT1AAAQBAjXFXePTEgu+1bFuurGEhmnZvL13SpqHRsfAzFEAAAFAjKjxe/X7hRi3ZfFjW0BC9M7SnrmiXaHQsnAYFEAAAnDePx6tnFm/Sv77PUViIRW/e00NXd2hkdCycAQUQAACcF6/Xqz98tEWL1h1SaIhFfxvUXf06NTY6Fs6CAggAAH41r9erP328VfMzsxRikV77TVcNvKip0bHwCyiAAADgV/F6vZqwZLve/+6ALBbpL3d21S3dmhkdCz6gAAIAgHPm9Xr1l//s1Iz/7pMkTbztIt3Zs7nBqeArCiAAADhnf/18t95e8YMk6YVbOuvu1BYGJ8K5oAACAIBz8uZXe/TGF7slSX+8sZOGXpJibCCcMwogAADw2dSvf9Ar/9kpSRo7sKNGXN7K4ET4NSiAAADAJ+99u08vfbZDkvT7fu310FVtDE6EX4sCCAAAftHs1Qc0/pNtkqTHrmmrR69tZ3AinA8KIAAAOKt/rMnSHz/aIkl68KrW+l2/9gYnwvmiAAIAgDNavO6Qxv5zsyRpxOWtNHZAR1ksFoNT4XxRAAEAwGn96/tsPbVoo7xe6d5LWuq5Gy6g/AUJCiAAADjFkk2HNeaDjfJ4pUGpLfSnmzpT/oIIBRAAAFTzn61H9PiCDarweHVnz+Z68dYLFRJC+QsmFEAAAFDlyx25emTeerk9Xt3aLUkv39GF8heEKIAAAECStHLXUT00e71cFV7d2KWpJt/VVaGUv6BEAQQAAFq1J18jZ62Vs8KjAZ2b6PXfdlNYKDUhWPGdBQDA5DL2HtOI99fK4fao7wWN9H+Duiuc8hfU+O4CAGBi6w4UaNjMNSpzVeiq9ol6854esoZRD4Id32EAAEzq+4MndN+7a1TqrNDlbRP0ztCeiggLNToW6gAFEAAAE9qSXaihMzJU7HCrd+t4Tbu3l2zhlD+zoAACAGAy23KKNGRGhuzlbvVq2UAz7rtY9ayUPzOhAAIAYCK7cu0aMiNDJ0pd6pYcp/eGXaz6EWFGx0IdowACAGASe/KKNXhahgpKnOrSPFbvD09VtC3c6FgwAAUQAAAT2JdfosHTViu/2KFOTWM0a3iqYutR/syKAggAQJDLOlaqwdNWK8/uUIfG0ZrzQJriIq1Gx4KBKIAAAASxQ8dLNWjaah0uLFfbRlGam56m+PqUP7OjAAIAEKQOF5Zp8LQMZZ8oU6uE+pr3QJoSoiKMjgU/QAEEACAI5RWVa/C0DGUVlKpFfKTmpaepUYzN6FjwExRAAACCzFG7Q4Omrda+/BI1i6uneelpahpbz+hY8CMUQAAAgkhBiVNDpmfoh6Mlahpr0/z03mreINLoWPAzFEAAAILEiVKn7pmeoZ25djWKjtD89N5q0ZDyh1NRAAEACAKFZS4NnZGp7YeLlBAVoXnpvZWSUN/oWPBTFEAAAAKcvdyl+97N1ObsQsXXt2peepraNooyOhb8GAUQAIAAVuJwa9h7a/T9wROKiwzXnBFpat842uhY8HMUQAAAAlSZs0LDZ67R2gPHFWML05wRaeqUFGN0LAQACiAAAAGo3FWh9FlrlbGvQFERYZo1Ik0XNos1OhYCBAUQAIAAU+6q0IOz1+m/e/JV3xqq94dfrG7JcUbHQgChAAIAEECcbo8enrteK3cdVb3wUL17/8Xq2TLe6FgIMBRAAAAChKvCo0fnr9cXO/IUERaiGff1UlrrhkbHQgCiAAIAEADcFR498Y/v9Z+tubKGhmjavb10adsEo2MhQFEAAQDwcxUer55cuFFLNh1WeKhFU4b20JXtE42OhQBGAQQAwI95PF49s3iTPvo+R2EhFr05uIeu6djY6FgIcGFGB6gtJSUlevrpp9WgQQMVFxfr5ZdfVkRExCnrvfTSS/J4PAoJCVFpaaleeOEFWSwWAxIDAFCdx+PVHz7arEXrDik0xKL/G9Rd/Ts3MToWgkDQ7gEcNWqU+vbtqwkTJqhHjx4aN27cKet8+umn2rdvn5577jk9++yzysnJ0QcffGBAWgAAqvN6vXr+462an3lQIRbptd901fUXNTU6FoJEUBbAnJwcLVy4UAMHDpQkDRw4UFOmTJHdbq+23vbt26stq1evngoLC+s0KwAAP+f1evXnT7dp9uoDslikV+7sqlu6NTM6FoJIUBbAFStWKCEhQTabTZKUmJgoq9WqzMzMauvdfPPN+vjjj7Vo0SIdP35c+fn5Gjp0qBGRAQCQVFn+Ji3dofe+3S9JmnT7RbqjZ3NjQyHoBOVnALOzsxUfX/2imNHR0crJyam2rEOHDpo3b54GDx6sq666SosXL1a9evXOuF2HwyGHw1H1uKioSJLkcrnkcrlq8G+gqu3V9HaDEbPyHbPyHbPyHbPynS+zev3zPXrn672SpPE3XaDbuzU15Wxr83llxnn+XFAWQIvFUrX37ySn06nw8PBT1i0vL9fHH3+s0aNHa9CgQVq8eLHCwk4/lokTJ2r8+PGnLF+2bJkiIyNrJvzPLF++vFa2G4yYle+Yle+Yle+Yle/ONKv/HLLos4OhkqTbUyoUl79Zn322uS6j+Z3aeF6VlpbW+DYDTVAWwKSkpFM+y1dcXKykpKRqy1asWKG1a9dq8uTJWrFihXr37q3XXntNTz/99Gm3O27cOI0ZM6bqcVFRkZKTk9W/f3/FxMTU6N/B5XJp+fLl6tev32mLK/6HWfmOWfmOWfmOWfnubLN65+t9+uzgbknS2AHtNeKyFAMS+o/afF6dPIJnZkFZAPv06aORI0fK6XTKarVWHfpNTU2ttt6iRYt00UUXSaosjRMmTNAHH3xwxgIYERFx2kvJhIeH19qLXm1uO9gwK98xK98xK98xK9/9fFbTv9mrycsry99T13XQQ33aGhXN79TG84rnaZCeBJKUlKQBAwZo5cqVkioP0Y4ePVo2m02TJ0/Wzp07JUndunXThg0bqr7OYrGcUhIBAKhNM7/dpwlLtkuSnujbTg9fTflD7QvKPYCSNGXKFI0dO1YZGRkqKCjQpEmTJEnz589XSkqKOnTooOHDhysrK0uTJk1SQkKCDh48qGeffdbg5AAAs5iz+oD+9Mk2SdLDV7fR49e2MzgRzCJoC2BCQoKmT59+yvJ169ZV/X9ISIj+/Oc/12UsAAAkSR+sOajnPtoiSXrwytZ6sn8H7kSFOhO0BRAAAH/14YYcPfNhZfkbdlmKxg7sSPlDnaIAAgBQh9YetWjO6i3yeqUhvVvo/93YifKHOkcBBACgjny66bDm7AmRV9Kg1Bb6880XUv5giKA8CxgAAH+zZNNhPbl4i7yy6K6ezfTirRcqJITyB2NQAAEAqGX/3nJYjy3YoAqPV6mJHk24uRPlD4biEDAAALVo2dYjemReZfm7pWtT9al3kPIHw7EHEACAWvLF9lw9PG+93B6vbu6apJdvv1B0P/gDCiAAALXgq515GjVnvVwVXt3Qpale+01XhdL+4CcogAAA1LCvdx3Vg7PXyVnh0cALm+ivv+2msFDecuE/eDYCAFCDvt2Tr/RZa+V0e9S/U2P936DuCqf8wc/wjAQAoIZ898MxjXh/jRxuj/pe0Eh/H9yD8ge/xLMSAIAakLmvQMNnrlG5y6OrOyTqzXt6yBrG2yz8E89MAADO09r9Bbr/vUyVuSp0ZftEvT2kpyLCQo2OBZwRBRAAgPOw7sBx3fdupkqdFbq8bYKmDu0pWzjlD/6NAggAwK/0/cETuv/dTJU4K3RJ64aadm8vyh8CAgUQAIBfYfOhQg2dkSG7w63UVvGacX8v1bNS/hAYKIAAAJyjLdmFGjIjQ/Zyty5OaaD37r9YkVburorAQQEEAOAcbMsp0pAZGSosc6lHizi9NyxV9SMofwgsFEAAAHy040iR7pm+WidKXeqWHKf3h6cqivKHAEQBBADAB7tz7bpnWoaOl7rUpXms3h+eqmhbuNGxgF+FAggAwC/Yk1esQdMydKzEqc5JMZo9PE2x9Sh/CFwUQAAAzmLv0WINnrZa+cUOXdA0RnNGpCk2kvKHwEYBBADgDPbnl2jQtNXKszvUsUm05j6Qpgb1rUbHAs4bBRAAgNPIOlaqQdNWK7fIofaNozT3gTTFU/4QJCiAAAD8zMGCyvJ3uLBcbRLra+4DvdUwKsLoWECNoQACAPAT2SfKNGjaamWfKFPrhPqan95bidGUPwQXCiAAAD86XFimQVNX69DxMrVKqK/5I3urUYzN6FhAjaMAAgAgKbeoXIOmrlZWQalaxEdqXnqaGlP+EKQogAAA08v7sfztP1aq5g3qaf7I3moaW8/oWECtoQACAEztqN2hQdNWa29+iZrF1dP89N5qFkf5Q3CjAAIATOuo3aHB01brh6MlSoq1aX56byXHRxodC6h1FEAAgCmdLH+784rVJMameem91aIh5Q/mQAEEAJhOfnH18rdgZG+lJNQ3OhZQZyiAAABT+Wn5axwTofmUP5gQBRAAYBrHih26Z1qGduVWlr8FIy9RK8ofTIgCCAAwhWPFDg2elqGdufbKPX/pvSl/MC0KIAAg6B0rduie6ZXlr1F0ZflrnRhldCzAMBRAAEBQO1n+dhypLH8LRlL+AAogACBoFZQ4q5W/+ZQ/QBIFEAAQpApKnBo8bbV2HLEr8cfy14byB0iiAAIAgtDxn+z5S/zxM3+UP+B/KIAAgKByvMSpwdMztP1wkRKiKstf20aUP+CnKIAAgKBxcs/fyfK3YCTlDzgdCiAAICicKHVqyIwMbasqf2mUP+AMKIAAgIB3orRyz9/WnCIlRFk1Pz1NbRtFGx0L8FsUQABAQDu1/PVWu8aUP+BsKIAAgIB18rDv1pwiNaxv1TzKH+ATCiAAICAVlro0ZEaGtmRXlr/5I3urPeUP8AkFEAAQcCh/wPmhAAIAAkphqUtD383Q5uzCqsO+lD/g3FAAAQABo7CssvxtOlSo+B/LX4cmlD/gXFEAAQABobDMpaEzflr+0ih/wK9EAQQA+L3CMpfu/bH8NYgM19wH0tSxSYzRsYCAFWZ0AAAAzubkZ/5Olr956b11QVPKH3A+KIAAAL918jp/W7KLFF/fqrkPpFH+gBpAAQQA+KXjJZV3+Nh2+H8XeeYzf0DNCNoCWFJSoqeffloNGjRQcXGxXn75ZUVERJx23dLSUr3zzjtq2LCh2rdvr969e9dxWgDATx0rduie6RnaccSuhCgu9QLUtKA9CWTUqFHq27evJkyYoB49emjcuHGnXa+goEB33XWXbr31Vt17772UPwAwWH6xQ4OnVZa/xOgILeAiz0CNC8oCmJOTo4ULF2rgwIGSpIEDB2rKlCmy2+2nrHv33XfrqaeeUqtWreo6JgDgZ47aHRo8bbV25trV6Mfy17YR5Q+oaUFZAFesWKGEhATZbDZJUmJioqxWqzIzM6ut9+mnn2r37t3KzMzU9ddfr3HjxsnlchkRGQBML89erkHTVmtXbrEax1SWvzaJUUbHAoJSUH4GMDs7W/Hx8dWWRUdHKycnp9qyuXPnKi0tTU888YRGjBih7t27y+v1atKkSafdrsPhkMPhqHpcVFQkSXK5XDVeHE9uj0L6y5iV75iV75iV72piVnl2h4a+u1Z780vUJCZCc4ZfrOS4iKCbP88r39XmrJh/kBZAi8VStffvJKfTqfDw8GrLtm7dqpEjR8pqtaphw4ZKT0/X22+/fcYCOHHiRI0fP/6U5cuWLVNkZGTN/QV+Yvny5bWy3WDErHzHrHzHrHz3a2d1wiG9uS1UeeUWxVm9Sm9Toq0ZK7S1hvP5E55XvquNWZWWltb4NgNNUBbApKQkFRYWVltWXFyspKSkasvcbrcqKiqqHnfp0kUFBQVn3O64ceM0ZsyYqsdFRUVKTk5W//79FRNTs9elcrlcWr58ufr163dKcUV1zMp3zMp3zMp35zOrw4XlGvruWuWVl6pZnE2zh/dScoPa+Qe1P+B55bvanNXJI3hmFpQFsE+fPho5cqScTqesVmvVod/U1NRq63Xp0kW7d++uehwWFqaOHTuecbsRERGnvZRMeHh4rf0g1+a2gw2z8h2z8h2z8t25zirnRJmGvrdWBwpK1bxBPc1P763k+OAtfz/F88p3tTErZh+kJ4EkJSVpwIABWrlypaTKQ7SjR4+WzWbT5MmTtXPnTknS448/riVLllR9rm/VqlV69NFHDcsNAGZx6Hipfjv1Ox04VqoW8ZH6x4OXmKb8Af4gKPcAStKUKVM0duxYZWRkqKCgoOpzffPnz1dKSoo6dOigSy65RC+88IIeffRRdejQQTabTSNGjDA4OQAEt4MFpRo0bbUOHS9Ty4aRmp/eW0lx9YyOBZhK0BbAhIQETZ8+/ZTl69atq/Z4yJAhGjJkSF3FAgBTyzpWWf6yT5SpVUJ9zU/vrSaxtl/+QgA1KmgLIADAvxw4VqJBU1crp7BcrRPqa/7I3mocQ/kDjEABBADUun35leXvSFG52iRW7vlrRPkDDEMBBADUqh+OFmvwtNXKLXKoXaMozU1PU6Noyh9gJAogAKDW7MmrLH95dofaN47SvPTeSog69XJaAOoWBRAAUCv25Nl199QM5Rc71LFJtOY+kKaGlD/AL1AAAQA1bleuXYOnrVZ+sVMXNI3R3AfSFF/fanQsAD+iAAIAatS2nCINmZGhghKnOifFaM6INDWg/AF+hQIIAKgxmw6d0NAZmSosc6lL81jNGp6quEjKH+BvKIAAgBqxIeuERsxaL7vDrR4t4jRzeKpibNxzFfBHQXkvYABA3dpTJA17f53sDrdSW8Vr1og0yh/gx9gDCAA4L6t+OKYp20Pl8lTosrYNNe3eXoq08vYC+DP2AAIAfrWvduYpfc4GuTwWXdmuoWbcdzHlDwgA/JQCAH6V5dty9fDc9XJWeHRhA4/eGtxdtvBQo2MB8AEFEABwzj7bfFiPzd8gt8erAZ0bq39UtiLCOKgEBAp+WgEA5+Rf32frkXnr5fZ4dUu3JL1+10UK5d0ECCj8yAIAfPbB2oN64h/fy+OV7uzZXK/9ppvCaH9AwOGnFgDgk7kZB/T0ok3yeqXBaS30lzu6KDTEYnQsAL8CnwEEAPyi977dp/GfbJMk3X9pip6/qZMsFsofEKgogACAs3pn5Q+auHSHJOnBK1tr7MCOlD8gwFEAAQBn9LcvduvV5bskSY9d01a/69ee8gcEAQogAOAUXq9Xry3fpb99uUeS9Pt+7fXote0MTgWgplAAAQDVeL1eTVq6Q+98vVeS9Oz1HTXyyjYGpwJQkyiAAIAqXq9X4z/Zppmr9kuS/nRTJ91/WStjQwGocRRAAIAkyePx6g8fbdH8zCxJ0ku3XaTBaS0MTgWgNlAAAQByV3j01KJN+nBDtiwW6eU7uug3vZKNjgWgllAAAcDkHO4KPTZ/g/6zNVdhIRa9/ttuuqlrktGxANQiCiAAmFiZs0IPzlmnr3cdlTU0RG/d00N9OzU2OhaAWkYBBACTKna4NXzmGmXuK1C98FBNu7eXLm+XYHQsAHWAAggAJnSi1Kn73lujjQdPKDoiTO8Nu1i9UuKNjgWgjlAAAcBkjtodGjojQzuO2NUgMlyzhqfpouaxRscCUIcogABgIocLy3TPtAztzS9RYnSE5oxIU4cm0UbHAlDHKIAAYBJZx0o1ePpqHTpepqRYm+am91arhPpGxwJgAAogAJjAnjy77pmeodwih1IaRmpuem81i6tndCwABqEAAkCQ25pTqKEzMlVQ4lT7xlGaMyJNjWJsRscCYCAKIAAEsfVZx3X/u5kqKnfromaxmjU8VQ3qW42OBcBgFEAACFKrfsjXA++vVamzQr1aNtC7wy5WjC3c6FgA/AAFEACC0Fc78vTQnHVyuD26vG2Cpt7bU5FWXvIBVOLVAACCzNLNh/XYgg1yVXjV94LG+vvg7rKFhxodC4AfoQACQBBZvO6Qnlq0UR6vdFPXJL32m64KDw0xOhYAP0MBBIAg8d63+zT+k22SpN/0aq6Jt3dRaIjF4FQA/BEFEAACnNfr1Rtf7NZfP98tSRpxeSv94foLFEL5A3AGFEAACGAej1cvLNmm977dL0ka06+9Hr2mrSwWyh+AM6MAAkCAcld49MzizVq8/pAk6U83ddL9l7UyOBWAQEABBIAAVO6q0GPzN2jZtlyFhlj0lzu66I6ezY2OBSBAUAABIMCUONwaOXutvt1zTNawEP19UHf179zE6FgAAggFEAACyIlSp+5/b42+P3hC9a2hmnZfL13aJsHoWAACDAUQAAJEblG5hs7I0K7cYsVFhmvmsFR1S44zOhaAAEQBBIAAkHWsVENmZCiroFSNoiM054E0tW8cbXQsAAGKAggAfm5Xrl1Dpmcoz+5Qi/hIzRmRphYNI42OBSCAUQABwI99f/CE7n8vUydKXerQOFqzR6SqUYzN6FgAAhwFEAD81Ko9+UqftVYlzgp1S47TzGEXKy7SanQsAEGAAggAfujfWw7rsQXfy+n26LK2DTV1aC/Vj+AlG0DN4NUEAPzM/Mws/eHDzfJ4pes6N9Ybd3eXLTzU6FgAgggFEAD8hNfr1Ztf7dHkZbskSXdfnKwJt16osNAQg5MBCDYUQADwAx6PV3/+dJtmrtovSXrk6rb6ff/2slgsxgYDEJQogABgMKfboycXbtTHG3MkSc/f1EnDLmtlcCoAwSxojyuUlJTo4Ycf1nPPPacnnnhCDofjrOsvWLBAffr0qZtwAPCjEodbI95fo4835igsxKI37u5G+QNQ64K2AI4aNUp9+/bVhAkT1KNHD40bN+6M6+bk5OjFF1+sw3QAIBWUODV4eoa+2Z2veuGhmn5fL93SrZnRsQCYQFAWwJycHC1cuFADBw6UJA0cOFBTpkyR3W4/7fqTJk3SqFGj6jIiAJPLPlGmO6es0saDJxQXGa556Wnq06GR0bEAmERQFsAVK1YoISFBNlvl1fITExNltVqVmZl5yrrTpk3TkCFDFBnJbZUA1I3duXbd+fYq7T1aoqRYmxY9dIm6t2hgdCwAJhKUJ4FkZ2crPj6+2rLo6Gjl5ORUW7Znzx4VFRUpNTVV27Zt+8XtOhyOap8lLCoqkiS5XC65XK4aSP4/J7dX09sNRszKd8zKd7U1qw1ZJ5Q+Z70Ky9xqk1hf793XU01jbQH9PeF55Ttm5bvanBXzD9ICaLFYqvb+neR0OhUeHl71uKKiQm+99ZZeeeUVn7c7ceJEjR8//pTly5Ytq7U9iMuXL6+V7QYjZuU7ZuW7mpzVtuMWvbsrRC6PRSlRXo1oWagN336pDTX2JxiL55XvmJXvamNWpaWlNb7NQGPxer1eo0PUtHnz5unPf/6zduzYUbWsfv36Wrp0qa688kpJ0jfffKPrrrtOVmvlfTWdTqecTqeioqJ04sSJ0273dHsAk5OTlZ+fr5iYmBr9O7hcLi1fvlz9+vWrVlxxKmblO2blu5qe1b++z9HYD7fK7fHqynYN9be7uyrSGhz/Bud55Ttm5bvanFVRUZESEhJUWFhY4+/fgSI4Xn1+pk+fPho5cqScTqesVmvVod/U1NSqdS6++OJqh30XLVqkRYsWacGCBWfcbkREhCIiIk5ZHh4eXms/yLW57WDDrHzHrHxXE7Oa/s1eTViyXZJ0a7ckvXJXV4UH4d09eF75jln5rjZmxeyD9CSQpKQkDRgwQCtXrpRUeYh29OjRstlsmjx5snbu3CmbzaaUlJSqXydPGklJSTE2PICg4fF4NeHTbVXlb/hlrfTab7oFZfkDEFiCcg+gJE2ZMkVjx45VRkaGCgoKNGnSJEnS/PnzlZKSog4dOhicEEAwc7gr9PsPNurTTYclSWMHdtSDV7bm1m4A/ELQFsCEhARNnz79lOXr1q077fr333+/7r///lpOBcAMCstcenD2Wq3eW6DwUIteubOrbu3OBZ4B+I+gLYAAYITDhWW6/9012plrV1REmKYM6anL2yUYHQsAqqEAAkAN2ZVr133vZupwYbkSoyM0c9jF6pwUa3QsADgFBRAAakDG3mNKn7VWReWVF3ieOSxVyfHcYQiAf6IAAsB5WrLpsH73j+/lrPCoV8sGmn5fL8VFWo2OBQBnRAEEgPPw7n/36YUl2+T1Std1bqw37u4uW3io0bEA4KwogADwK3g8Xk369w5N/XqvJGlo75b6082dFRrCZV4A+D8KIACcI4e7Qk8t3KSPN1beZejpAR006qo2XOMPQMCgAALAOSgqd+mh2eu06odjCgux6OU7uuiOns2NjgUA54QCCAA+OlJYrvvfy9SOI3bVt4bq7SE9dWX7RKNjAcA5owACgA+25RRp+Mw1OlJUroSoymv8XdiMa/wBCEwUQAD4BSt3HdXoOetU4qxQ20ZReu/+i7nGH4CARgEEgLP4x9pDev6T7arweNW7dbzeGdJLsZHhRscCgPNCAQSA0/B4vPrkQIg+/26bJOn27s006Y4usoaFGJwMAM4fBRAAfqbcVaHfL9ysz3Mqy97j17bTE33bcZkXAEGDAggAP3G8xKn0WWu19sBxhVi8mnjbhfptaorRsQCgRlEAAeBH+/NLNGzmGu3LL1G0LUz3tnbo9u7NjI4FADWOD7MAgKR1Bwp021vfal9+iZrF1dM/0lPVPtZrdCwAqBXsAQRgeks2HdbvPvheTrdHXZrHavp9vdTAFqrdRgcDgFpCAQRgWl6vV1NW7tXL/94hSep7QWP936BuirSGyeVyGZwOAGoPBRCAKTndHv3hw81auO6QJOn+S1P0xxs7KTSEM30BBD8KIADTKShx6qE565S5r0AhFun5mzrrvktTjI4FAHWGAgjAVPbkFWvE+2t04FipoiLC9PfB3dWnQyOjYwFAnaIAAjCN/+7O16i562Qvd6t5g3p69/6L1b5xtNGxAKDOUQABmMKc1Qf0/MdbVeHxqmfLBpo6tKcaRkUYHQsADEEBBBDUKjxevbhku979dp8k6bbuzTTx9otkCw81OBkAGIcCCCBo2ctdenzB9/pyR54k6cn+7fXw1W25py8A06MAAghKh46XasTMtdqZa1dEWIhe+0033dClqdGxAMAvUAABBJ31Wcc1ctZa5Rc7lRgdoen39lLX5DijYwGA36AAAggqi9cd0rgPN8vp9qhT0xhNv6+XkuLqGR0LAPwKBRBAUKjweDVp6XZN+6byZI9+nRrrr7/tpvoRvMwBwM/xyggg4BWWufTY/A1aueuoJOnRa9rqd33bK4TbugHAaVEAAQS0H44WK/39tdqbXyJbeIhevYuTPQDgl1AAAQSsr3bm6bF5G2R3uJUUa9PUe3vpwmaxRscCAL9HAQQQcLxer6Z+vVeT/r1DXq90cUoDvT2kpxK4swcA+IQCCCCglLsqNHbxJn30fY4kaVBqssbffKGsYSEGJwOAwEEBBBAwjhSWa+Tstdp0qFChIRY9f1MnDe3dkjt7AMA5ogACCAjrs47rwdnrdNTuUFxkuN4a3EOXtk0wOhYABCQKIAC/98Gag3ruoy1yVnjUoXG0pt3bSy0aRhodCwACFgUQgN9yuCs0/pNtmpeRJany4s6v/7abori4MwCcF15FAfilI4XlGjV3nTZknZDFIo3p214PX92WizsDQA2gAALwO5n7CjR67nrlFzsUYwvTG4O66+oOjYyOBQBBgwIIwG94vV7NXLVfLy7ZLrfHq45NovXO0J5q2bC+0dEAIKhQAAH4hTJnhZ79cLM+3JAtSbq5a5Im3XGRIq28TAFATeOVFYDhDhaU6sHZ67TtcJFCQyx69voLNPyyFK7vBwC1hAIIwFArdx3VY/M3qLDMpYQoq/4+uId6t25odCwACGoUQACG8Hq9emvFD5q8bKe8XqlrcpymDOmhprH1jI4GAEGPAgigzhWWufTkwo1avi1XUuX9fP90c2dFhIUanAwAzIECCKBObT5UqNHz1ulgQZmsoSEaf0tnDUptYXQsADAVCiCAOuH1ejU3I0t//mSbnBUeJcfX01uDe+qi5rFGRwMA06EAAqh1JQ63nv1ws/71fY6kylu6Tb6zq2Ijww1OBgDmRAEEUKt259o1au567ckrVmiIRc8M6KD0K1pziRcAMBAFEECt+XDDIT37zy0qc1WocUyE/j64hy5OiTc6FgCYHgUQQI0rd1Vo/CfbND8zS5J0edsE/fXubkqIijA4GQBAogACqGEHjpVo1Jz12na4SBaL9Pi17fToNe0UGsIhXwDwFxRAADXm31sO66mFm2R3uBVf36o37u6mK9olGh0LAPAzFEAA563cVaGXPtuuWd8dkCT1atlAfx/cQ01ibQYnAwCcDgUQwHnZk1esR+at144jdknSg1e21pPXdVB4aIjByQAAZxK0r9AlJSV6+OGH9dxzz+mJJ56Qw+E4ZZ3CwkLdddddiomJUffu3bV69WoDkgKByev16oO1B3XT3/6rHUfsaljfqveHp2rc9RdQ/gDAzwXtq/SoUaPUt29fTZgwQT169NC4ceNOWefll1/W7bffrq+++krJycm65ZZbVFJSYkBaILDYy1164h/f6+lFm1TmqtBlbRtq6eNX6Kr2fN4PAAJBUBbAnJwcLVy4UAMHDpQkDRw4UFOmTJHdbq+2Xt++fTVo0CD17NlTc+bM0fHjx7Vt2zYjIgMBY9OhE7rxb//Vv77PUWiIRU9d10Gzh6epUQyf9wOAQBGUnwFcsWKFEhISZLNVviElJibKarUqMzNT1157bdV611xzTdX/x8TEKCYmRs2bNz/jdh0OR7VDyUVFRZIkl8sll8tVo3+Hk9ur6e0GI2blu/OZlcfj1czvDmjy8t1yVXjVLM6m1+7qoh4t4lRR4VZFRU2nNRbPK98xK98xK9/V5qyYf5AWwOzsbMXHV7/bQHR0tHJycs74Nbt27VKfPn3UtGnTM64zceJEjR8//pTly5YtU2Rk5K8PfBbLly+vle0GI2blu3OdVZFTmvdDiLafqDxo0DXeo7vbFOvIllX6bEttJPQfPK98x6x8x6x8VxuzKi0trfFtBpqgLIAWi6Vq799JTqdT4eFnvvH8m2++qVdeeeWs2x03bpzGjBlT9bioqEjJycnq37+/YmJizi/0z7hcLi1fvlz9+vU7a24wq3Pxa2b15c6jGv/hFhWUuBQRFqI/XN9Bd/dqHvT38uV55Ttm5Ttm5bvanNXJI3hmFpQFMCkpSYWFhdWWFRcXKykp6bTr/+c//9E111yjVq1anXW7ERERiog49VZW4eHhtfaDXJvbDjbMyne+zKrMWaEJS7Zpbkbl7dw6NonWG3d3V4cm0XUR0W/wvPIds/Ids/JdbcyK2QfpSSB9+vTRoUOH5HQ6Janq0G9qauop627dulVZWVm65ZZb6jQj4M82HyrUDX/7pqr8PXB5K/3rkctMV/4AIFgFZQFMSkrSgAEDtHLlSkmVn9EbPXq0bDabJk+erJ07d0qSfvjhB02bNk39+vXT/v37tXHjRr399ttGRgcMVeHx6q0Ve3TbW99q79ESNYmxae4DaXruxk6KCAs1Oh4AoIYE5SFgSZoyZYrGjh2rjIwMFRQUaNKkSZKk+fPnKyUlRTExMVV7Ct94442qr1uwYIFRkQFDHTpeqjEfbFTmvgJJ0vUXNdFLt12kuEirwckAADUtaAtgQkKCpk+ffsrydevWVf3/wYMH6zIS4Je8Xq8+3pij5z7aInu5W/WtofrTzZ11Z8/gP9EDAMwqaAsggF92rNihP/5riz7bfESS1KNFnF7/bTe1bFjf4GQAgNpEAQRM6j9bj+gPH25WfrFTYSEWPXJNWz1ydVuFcR9fAAh6FEDAZErd0lOLNuujjYclSe0bR+m133TThc1iDU4GAKgrFEDARL7Zna9JG0NV6DysEIs08so2+l2/dpzhCwAmQwEETKDY4daLS7ZrfmaWJItSGkbq1d90U8+WDYyOBgAwAAUQCHKr9x7Tkws36tDxMknSlU08+nv6JYqpb/uFrwQABCsKIBCk7OUu/eXfOzV79QFJUrO4epp0W2cV7FitelYO+QKAmVEAgSD01c48/eGfm5VTWC5JGpSarGevv0C2UOmzHQaHAwAYjgIIBJHjJU698Ok2/XNDtiQpOb6eJt3eRZe1TZAkuVwuI+MBAPwEBRAIAl6vV0s2H9bz/9qqYyVOWSzS8Mta6ff92yvSyo85AKA63hmAAJdbVK4/frRFy7blSpLaNYrSy3d2UY8WnOELADg9CiAQoLxerz5Ye1ATlmyXvdytsBCLRl/dVg9f3Ybr+gEAzooCCASg3bl2/eGjLcrcVyBJ6tI8Vn+5s4s6NokxOBkAIBBQAIEAUuas0N+/2q2pX++Vq8KreuGh+l2/dhp+WSvu4QsA8BkFEAgQK3bm6Y//2qKDBZUXdO57QSP96ebOat4g0uBkAIBAQwEE/FxuUbn+/Ok2Ldl0WJLUNNamP93cWf07NZbFYjE4HQAgEFEAAT9V4fFq9nf7NXnZLhU73AoNsWjYpSl6ol97RUXwowsA+PV4FwH80Ias43r+463adKhQktQ1OU4v3XahOifFGpwMABAMKICAH8mzl+sv/96pResOSZKibWF6ekBHDU5todAQDvcCAGoGBRDwA063R++v2q83vtitYodbknRnz+Z6ekAHNYq2GZwOABBsKICAwb7edVTjP9mqH46WSJK6No/Vn27urO7cyQMAUEsogIBBso6V6oUl27T8x1u4JURZ9fSAjrqzR3OFcLgXAFCLKIBAHStxuPX2ih809Zu9cro9Cgux6L5LU/R433aKsYUbHQ8AYAIUQKCOuCs8WrjukF5bvktH7Q5J0uVtE/T8TZ3UrnG0wekAAGZCAQRqmdfr1YqdR/XSZ9u1O69YktSyYaTGDbxA13XmYs4AgLpHAQRq0ZbsQr302Xat+uGYJCkuMlyPX9tO96S1lDWMe/cCAIxBAQRqQc6JMk1etlMfbsiW1ytZQ0M07LIUjb66rWLr8Tk/AICxKIBADSosc+mdlT9oxn/3yeH2SJJu6ZakJ/t3UHJ8pMHpAACoRAEEakCp0633vt2vqV/vVWGZS5KU2ipez91wgbo0jzM2HAAAP0MBBM5DuatCczOy9PaKPcovdkqS2jWK0lPXdVC/TpzgAQDwTxRA4FdwVXj0wdqD+tsXe3SkqFxS5Zm9T/Rtp5u7NuO+vQAAv0YBBM5BhcerjzZk640vdiuroFSS1DTWpseubac7ezZXeChn9gIA/B8FEPBBhcerJZsP6/++2K09P17LLyHKqoevbqtBqS1kCw81OCEAAL6jAAJn4arw6F/f5+itr/Zob36JJCm2XrgevKq17r80RZFWfoQAAIGHdy/gNBzuCi1el623V+7RwYIySZUXcR52aSsNuzyFe/YCAAIaBRD4iTJnhf6xJkvvfL1XhwsrT+5IiLLqgStaa0jvloqK4EcGABD4eDcDJB0rdmjWdwc067v9Ol5aeR2/RtERevCqNhqc2kL1rHzGDwAQPCiAMLUDx0o0/Zt9+mDtwao7dyTH19PIK9vorp7NObkDABCUKIAwpY0HT2jq13u1dMthebyVy7o0j9XIK1trQOcmCuNyLgCAIEYBhGk43R4t3XJYM1ft14asE1XL+3RI1INXtlHv1vHcuQMAYAoUQAS9o3aH5mdmac7qA8qzOyRJ1tAQ3dQ1SSOvbK0OTaINTggAQN2iACIoeb1ebTpUqPe/269PNx6Ws6Ly832J0REaktZSg9NaKDE6wuCUAAAYgwKIoGIvd+njjTmal5GlrTlFVcu7Jcdp2GUpGnhhU1nD+HwfAMDcKIAIeF6vV1nF0h8+2qpPNx9RqbNCkmQNC9H1FzbRfZemqHuLBganBADAf1AAEbCOlzj1yaYcLcjM0rbDYZKyJUltEutrUGoL3dGjuRrUtxobEgAAP0QBREBxuj1asTNPi9cf0pc78uSqqLyGS5jFqxu6JOme3im6OKUBZ/MCAHAWFED4Pa/Xqy3ZRVq8/pA+3pijghJn1e91TorRrd2aqn7eVt11y0UKD+cevQAA/BIKIPyS1+vVzly7Pt14WEs2H9a+/JKq30uMjtBt3Zvp9h7N1LFJjFwulz77bKuBaQEACCwUQPiV3bl2fbrpsD7dlKMfjv6v9EWEhah/5ya6o0czXd42gTt1AABwHiiAMJTH49Xm7EIt35arZduOaFducdXvWUNDdFWHRN3YpamuvaCxoiJ4ugIAUBN4R0WdK3dV6LsfjmnZtlx9sT236u4ckhQeatGV7RJ1Q5em6tupsWJsfKYPAICaRgFEncg6Vqqvdx/V17uO6r978quu1SdJ9a2h6tOhkfp2aqRrOjRWbCSlDwCA2kQBRK0oKndp1Z5j+mZ3ZeE7cKy02u83jbWp7wWN1bdTY/VuHa+IsFCDkgIAYD4UQNSIE6VOrdl/XGv2FyhzX4E2ZxeqwuOt+v2wEIt6tmygK9ol6Kr2jXRhsxiu1QcAgEEogDhnXq9Xh46XaX1WZeFbs++4dubaT1mvdWJ9XdkuUVe0S1Ba64acxAEAgJ/gHRm/6EhhuTYdOqFNhwq1KbtQmw+d0PFS1ynrtUmsr9RW8T/+aqhmcfUMSAsAAH5J0BbAkpISPf3002rQoIGKi4v18ssvKyIi4pT1Pv74Y33xxRdyOBy688471bdvXwPS+odih1u7c+3alWvXrtxi7cq1a8cRu47+5Czdk8JDLbqgaYx6tYxXaqsG6pUSr4SoU+cLAAD8T9AWwFGjRum2227TbbfdplmzZmncuHF67bXXqq2zY8cOTZgwQRkZGfJ6verVq5c++eQTNWvWzKDUta/E4dbB46XKOlaqrILKXweOlWpPXrGyT5Sd9mtCLFL7xtHq0jxWFzWPU9fmserQJJoTNwAACFBBWQBzcnK0cOFCTZ06VZI0cOBAPfTQQxo/fryio6Or1vvrX/+qAQMGyGKxyGKx6JJLLtHbb7+tCRMmGBX9V3G6PbKXu2Qvd+t4qVNH7Q7l2R3V/nvUXq7sE2XKL3aedVuNoiPUvnH0j7+i1K5xtDo1jVE9K2UPAIBgEZQFcMWKFUpISJDNZpMkJSYmymq1KjMzU9dee23Vel9++aWeeeaZqsft2rXT4sWLz7hdh8Mhh+N/h0OLiookSS6XSy7XqZ+J+7X+vTVX/95yRNmHQ/RxwXpVeCW3xyt3hUduj/fHwueW3eGWvdwth9tzTtuPqxeu5Ph6atEgUsnx9dS8QT21SayvtolRijvtNfg8crnO7c+oSydnX5Pfg2DFrHzHrHzHrHzHrHxXm7Ni/kFaALOzsxUfH19tWXR0tHJycs663unW+amJEydq/PjxpyxftmyZIiMjzzP1/yw9GKJ/HwqRFCIdy/f566whXkWGSbFWKTrcqxirFBMuxVi9igmX4qxeNbRJkWFuSWWSCiSXpDwpL0/Kq7G/gTGWL19udISAwax8x6x8x6x8x6x8VxuzKi0t/eWVglxQFkCLxVK19+8kp9Op8PDws653unV+aty4cRozZkzV46KiIiUnJ6t///6KiYmpofRS06wT6nqgQHt27dSFnS9QRHi4wkMtCguxKCw0ROGhFkXbwhQdEa5oW5iiIsIUFRGqsNCQGssQSFwul5YvX65+/fqd9fsHZnUumJXvmJXvmJXvanNWJ4/gmVlQFsCkpCQVFhZWW1ZcXKykpKSzrme3209Z56ciIiJOeyZxeHh4jT45U9skqnuLOH1m36Hre6fwIuGjmv4+BDNm5Ttm5Ttm5Ttm5bvamBWzl4Jyl1GfPn106NAhOZ2VJzycPKybmppabb1rr71Wu3btqnq8Z88eXX311XUXFAAAwABBWQCTkpI0YMAArVy5UlLlZ/RGjx4tm82myZMna+fOnZKkhx56SJ9//rkkye12KzMzU+np6YblBgAAqAtBeQhYkqZMmaKxY8cqIyNDBQUFmjRpkiRp/vz5SklJUYcOHdS1a1cNGzZMTz75pJxOp15//XU1adLE4OQAAAC1K2gLYEJCgqZPn37K8nXr1lV7PGzYsLqKBAAA4BeC8hAwAAAAzowCCAAAYDIUQAAAAJOhAAIAAJgMBRAAAMBkKIAAAAAmQwEEAAAwGQogAACAyVAAAQAATCZo7wRSF7xerySpqKioxrftcrlUWlqqoqIihYeH1/j2gwmz8h2z8h2z8h2z8h2z8l1tzurk+/bJ93EzogCeB7vdLklKTk42OAkAADhXdrtdsbGxRscwhMVr5vp7njwej3JychQdHS2LxVKj2y4qKlJycrIOHjyomJiYGt12sGFWvmNWvmNWvmNWvmNWvqvNWXm9XtntdiUlJSkkxJyfhmMP4HkICQlR8+bNa/XPiImJ4UXCR8zKd8zKd8zKd8zKd8zKd7U1K7Pu+TvJnLUXAADAxCiAAAAAJkMB9FMRERF6/vnnFRERYXQUv8esfMesfMesfMesfMesfMesahcngQAAAJgMewABAABMhgIIAABgMhRAAAAAk6EAAgAAmAwF0A+VlJTo4Ycf1nPPPacnnnhCDofD6Eh+benSpUpNTdX+/fuNjuLX/vnPf6pVq1Zq2LChHn/8cbndbqMj+a1Vq1apU6dOiouL0+OPP250nIDgdDrVtWtXrVixwugofu3FF1+UxWKRxWJR165djY4TEFatWqVXX31VH330kfLz842OEzS4E4gfGjVqlG677TbddtttmjVrlsaNG6fXXnvN6Fh+KS8vT263W2vWrDE6il/LysrSRx99pEWLFmn79u166KGHlJycrCeffNLoaH6nuLhYK1as0LfffqtVq1bp1ltv1U033aS+ffsaHc2v/eUvf+EfYb/A4XDo4MGDWr58uSSpZcuWBifyfzNmzNDevXv14osvGh0l6HAZGD+Tk5OjNm3a6Pjx47LZbDp69Khatmyp3NxcRUdHGx3PL3k8HoWGhmrfvn1KSUkxOo5f+uabb3TJJZcoLKzy33zPPPOMtmzZoiVLlhiczP+Ul5crIiKi6v7evXr10iuvvKKrr77a4GT+69tvv9WuXbs0fvx4zZw5U3369DE6kl+aPn26jh07pkcffVSRkZFGx/F7X3/9tV544QUtW7as6ucRNYdDwH5mxYoVSkhIkM1mkyQlJibKarUqMzPT4GT+y6w38j4XV1xxRVX5k6SkpCS1aNHCwET+y2azVb3ZlJSUqGPHjhSasyguLtbixYs1bNgwo6P4vTlz5ujZZ59VkyZNNGfOHKPj+L0xY8aoY8eOeuSRRzRw4EB99913RkcKKrxz+pns7GzFx8dXWxYdHa2cnByDEiEYrVmzRqNGjTI6hl/7/PPP1b9/f7lcLpWWlhodx2+9/PLLGjt2rNExAsKKFSuUl5enxx9/XPfeey974M9i165dWr9+vUaMGKE333xT11xzja677jrl5eUZHS1oUAD9jMViqdr7d5LT6VR4eLhBiRBsdu/ercaNG6tLly5GR/FrF154oR544AF98cUXeuqpp4yO45eWLl2qtLQ0NWrUyOgoAaNhw4Z64YUX9Nxzz+mNN94wOo7f2rJli+Lj49WtWzdJ0qOPPiqPx6OPPvrI0FzBhALoZ5KSklRYWFhtWXFxsZKSkgxKhGDidrs1depUTZw40egofq9JkyYaNmyYXn31Va1cudLoOH7p1Vdf1ZAhQxQXF6e4uDhlZWXpxhtv1KRJk4yO5vcefvhhHTx40OgYfsvtdle7UoHNZlO7du107NgxA1MFF84C9jN9+vTRyJEj5XQ6ZbVaqw79pqamGpwMweCVV17RU089JavVanSUgNGjRw81a9bM6Bh+ac6cOSovL696fPnll2vy5MkaMGCAgakCQ0hIiHr06GF0DL/VpUsXFRYWKj8/XwkJCZKksLAwXXDBBQYnCx7sAfQzSUlJGjBgQNUeh2XLlmn06NGnHBbG/5w8kZ0T2s9uwoQJ6tmzp0pLS7V37169++672rNnj9Gx/E55ebnWrVtX9Xjp0qV67LHHDEzkv5o0aaKUlJSqX2FhYWrSpIni4uKMjuZ38vPzNXPmTFVUVMjr9Wry5MmaMGGC0bH8VseOHTVgwAAtXLhQknTixAmVl5frhhtuMDhZ8GAPoB+aMmWKxo4dq4yMDBUUFHA45SyKi4s1e/ZsSdL777+vRx55pOpfi/ifF154Qf/v//2/ass6duyo4cOHG5TIf+3cuVPXX3+92rRpo0svvVS9evXSjTfeaHQsBDi73a4XXnhBL730kq644gqNGTNGrVq1MjqWX5s9e7Yee+wxlZWVKSsrSwsWLODz8DWI6wACAACYDIeAAQAATIYCCAAAYDIUQAAAAJOhAAIAAJgMBRAAAMBkKIAAAAAmQwEEAAAwGQogAACAyVAAAQAATIYCCAAAYDIUQAAAAJOhAAIAAJgMBRAAAMBkKIAAAAAmQwEEAAAwGQogAACAyVAAAQAATIYCCAAAYDIUQAAAAJOhAAIAAJgMBRAAAMBkKIAAAAAmQwEEAAAwGQogAACAyVAAAQAATIYCCAAAYDIUQAAAAJOhAAIAAJgMBRAAAMBkKIAAAAAmQwEEAAAwmf8PihA0ehP8UswAAAAASUVORK5CYII=' width=640.0/>\n",
       "            </div>\n",
       "        "
      ],
      "text/plain": [
       "Canvas(toolbar=Toolbar(toolitems=[('Home', 'Reset original view', 'home', 'home'), ('Back', 'Back to previous …"
      ]
     },
     "metadata": {},
     "output_type": "display_data"
    }
   ],
   "source": [
    "x = np.linspace(0, l, 200)\n",
    "\n",
    "fig4, ax2 = plt.subplots(1,1)\n",
    "ax2.plot(x, w_z(x, 0))\n",
    "#plt.yticks(np.arange(-5, 5, 0.5))\n",
    "#plt.ylim(-7000, -6000)\n",
    "plt.grid()\n",
    "plt.show()"
   ]
  },
  {
   "cell_type": "code",
   "execution_count": 317,
   "id": "1ce6b19e-d9da-477f-b071-d8f0afa78552",
   "metadata": {},
   "outputs": [
    {
     "data": {
      "text/plain": [
       "(array([1.51877677e+00, 2.78316904e+01, 6.43992721e+02, 1.49024354e+04,\n",
       "        3.44852676e+05, 7.98012979e+06, 1.84665731e+08, 4.27329291e+09,\n",
       "        9.88869578e+10, 2.28831270e+12]),\n",
       " array([2.06890893e+00, 2.73271988e+01, 6.44492527e+02, 1.49019354e+04,\n",
       "        3.44853176e+05, 7.98012929e+06, 1.84665731e+08, 4.27329291e+09,\n",
       "        9.88869578e+10, 2.28831270e+12]))"
      ]
     },
     "execution_count": 317,
     "metadata": {},
     "output_type": "execute_result"
    }
   ],
   "source": [
    "S(z_k), T(z_k)"
   ]
  },
  {
   "cell_type": "code",
   "execution_count": 311,
   "id": "919424a3-b3e1-47b8-8924-76b698c51361",
   "metadata": {},
   "outputs": [
    {
     "data": {
      "text/plain": [
       "array([0.3125    , 0.78539816, 1.30899694, 1.83259571, 2.35619449,\n",
       "       2.87979327, 3.40339204, 3.92699082, 4.45058959, 4.97418837])"
      ]
     },
     "execution_count": 311,
     "metadata": {},
     "output_type": "execute_result"
    }
   ],
   "source": [
    "a_k"
   ]
  },
  {
   "cell_type": "code",
   "execution_count": 439,
   "id": "af237548-58d6-4124-8a97-b440eb58855c",
   "metadata": {},
   "outputs": [],
   "source": [
    "a = [4 , 6 , 8]\n",
    "b =[6, 8]"
   ]
  },
  {
   "cell_type": "code",
   "execution_count": 441,
   "id": "b04c44a2-6c8f-41d3-a5e3-90c3ae2f6e75",
   "metadata": {},
   "outputs": [
    {
     "ename": "TypeError",
     "evalue": "list.append() takes exactly one argument (2 given)",
     "output_type": "error",
     "traceback": [
      "\u001b[1;31m---------------------------------------------------------------------------\u001b[0m",
      "\u001b[1;31mTypeError\u001b[0m                                 Traceback (most recent call last)",
      "Input \u001b[1;32mIn [441]\u001b[0m, in \u001b[0;36m<cell line: 1>\u001b[1;34m()\u001b[0m\n\u001b[1;32m----> 1\u001b[0m \u001b[43ma\u001b[49m\u001b[38;5;241;43m.\u001b[39;49m\u001b[43mappend\u001b[49m\u001b[43m(\u001b[49m\u001b[38;5;241;43m*\u001b[39;49m\u001b[43mb\u001b[49m\u001b[43m)\u001b[49m\n\u001b[0;32m      2\u001b[0m a\n",
      "\u001b[1;31mTypeError\u001b[0m: list.append() takes exactly one argument (2 given)"
     ]
    }
   ],
   "source": [
    "a.append(*b)\n",
    "a"
   ]
  },
  {
   "cell_type": "code",
   "execution_count": 459,
   "id": "add647c8-45b7-4a11-9205-6fcfd8c3aaad",
   "metadata": {},
   "outputs": [],
   "source": [
    "def f(*arg, **kwargs):\n",
    "    print(arg)\n",
    "    print(len(kwargs))"
   ]
  },
  {
   "cell_type": "code",
   "execution_count": 460,
   "id": "68944af5-2b74-4000-ad1e-2cd79143d895",
   "metadata": {},
   "outputs": [
    {
     "name": "stdout",
     "output_type": "stream",
     "text": [
      "([4, 6, 8, 6, 8], 7, [6, 8])\n",
      "1\n"
     ]
    }
   ],
   "source": [
    "f(a, 7, b, a=1)"
   ]
  },
  {
   "cell_type": "code",
   "execution_count": 461,
   "id": "c11b5b03-7092-4640-8546-cf735001b6e3",
   "metadata": {},
   "outputs": [
    {
     "ename": "SyntaxError",
     "evalue": "invalid syntax (1551636857.py, line 1)",
     "output_type": "error",
     "traceback": [
      "\u001b[1;36m  Input \u001b[1;32mIn [461]\u001b[1;36m\u001b[0m\n\u001b[1;33m    for i in 1..10:\u001b[0m\n\u001b[1;37m               ^\u001b[0m\n\u001b[1;31mSyntaxError\u001b[0m\u001b[1;31m:\u001b[0m invalid syntax\n"
     ]
    }
   ],
   "source": [
    "for i in 1..10:\n",
    "    print(i)"
   ]
  },
  {
   "cell_type": "code",
   "execution_count": 462,
   "id": "35a68b30-c566-4803-9e0d-8ac382d20e9d",
   "metadata": {},
   "outputs": [
    {
     "ename": "SyntaxError",
     "evalue": "invalid syntax (310787983.py, line 1)",
     "output_type": "error",
     "traceback": [
      "\u001b[1;36m  Input \u001b[1;32mIn [462]\u001b[1;36m\u001b[0m\n\u001b[1;33m    a = [x for x in 1..10]\u001b[0m\n\u001b[1;37m                      ^\u001b[0m\n\u001b[1;31mSyntaxError\u001b[0m\u001b[1;31m:\u001b[0m invalid syntax\n"
     ]
    }
   ],
   "source": [
    "a = [x for x in 1..10]"
   ]
  },
  {
   "cell_type": "code",
   "execution_count": 464,
   "id": "45f671bf-35d5-4680-a39c-236140caca7f",
   "metadata": {},
   "outputs": [
    {
     "data": {
      "text/plain": [
       "1"
      ]
     },
     "execution_count": 464,
     "metadata": {},
     "output_type": "execute_result"
    }
   ],
   "source": [
    "class Foo:\n",
    "    var = 1\n",
    "\n",
    "a = Foo()\n",
    "b = Foo()\n",
    "a.var = 10\n",
    "b.var"
   ]
  },
  {
   "cell_type": "code",
   "execution_count": 465,
   "id": "6b601873-5292-4e9a-aa8a-315871abc0c4",
   "metadata": {},
   "outputs": [
    {
     "data": {
      "text/plain": [
       "set"
      ]
     },
     "execution_count": 465,
     "metadata": {},
     "output_type": "execute_result"
    }
   ],
   "source": [
    "type({5, 7,8})"
   ]
  },
  {
   "cell_type": "code",
   "execution_count": 468,
   "id": "97cb562c-80d8-48b2-82a3-bedc38298985",
   "metadata": {},
   "outputs": [
    {
     "data": {
      "text/plain": [
       "8527674585806224592"
      ]
     },
     "execution_count": 468,
     "metadata": {},
     "output_type": "execute_result"
    }
   ],
   "source": [
    "hash((7,9))"
   ]
  },
  {
   "cell_type": "code",
   "execution_count": null,
   "id": "26d60a77-ec96-4c95-b30f-c62be3c1d10a",
   "metadata": {},
   "outputs": [],
   "source": []
  }
 ],
 "metadata": {
  "kernelspec": {
   "display_name": "Python 3 (ipykernel)",
   "language": "python",
   "name": "python3"
  },
  "language_info": {
   "codemirror_mode": {
    "name": "ipython",
    "version": 3
   },
   "file_extension": ".py",
   "mimetype": "text/x-python",
   "name": "python",
   "nbconvert_exporter": "python",
   "pygments_lexer": "ipython3",
   "version": "3.9.12"
  }
 },
 "nbformat": 4,
 "nbformat_minor": 5
}
