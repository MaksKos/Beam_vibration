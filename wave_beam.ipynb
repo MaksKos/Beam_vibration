{
 "cells": [
  {
   "cell_type": "code",
   "execution_count": 2,
   "id": "5959517f-394e-4824-aa5b-a9bb4fa8df86",
   "metadata": {},
   "outputs": [],
   "source": [
    "import numpy as np\n",
    "from pyballistics import ozvb_lagrange, get_db_powder, get_powder_names"
   ]
  },
  {
   "cell_type": "code",
   "execution_count": 3,
   "id": "05d1b131-a40b-4e33-a0b7-b4d6a17c19e8",
   "metadata": {},
   "outputs": [],
   "source": [
    "from modules import Cannon, get_parametr_1d, get_parametr_matrix, get_time\n",
    "from modules.wave_long import solver, solver_wave"
   ]
  },
  {
   "cell_type": "code",
   "execution_count": 4,
   "id": "67b453fe-e38b-4903-9c3d-653ba9e28d1b",
   "metadata": {},
   "outputs": [],
   "source": [
    "import matplotlib.pyplot as plt"
   ]
  },
  {
   "cell_type": "code",
   "execution_count": 5,
   "id": "9097723e-3eb6-4f4b-94b3-814bffa9afab",
   "metadata": {},
   "outputs": [],
   "source": [
    "import scipy.interpolate as interp\n",
    "from scipy.interpolate import splrep, BSpline\n",
    "from scipy.signal import savgol_filter\n",
    "from findiff import FinDiff, pde, Coef, BoundaryConditions, PDE"
   ]
  },
  {
   "cell_type": "markdown",
   "id": "56b137a7-9e74-4629-b4ac-0dcf56964f1c",
   "metadata": {
    "tags": []
   },
   "source": [
    "# 1. Ballistic"
   ]
  },
  {
   "cell_type": "code",
   "execution_count": 6,
   "id": "632b355d-b9be-41a8-bd09-3115d02a31e5",
   "metadata": {},
   "outputs": [],
   "source": [
    "d = 125*1e-3          # калибр м\n",
    "q = 7.05           # вес снаряда кг\n",
    "velocity_pm = 1700         # дульная скорость снаряда\n",
    "n_s = 1           # нарезное орудие\n",
    "max_pressure = 600*1e6    # максимальное давление Па\n",
    "tube_lenght = 5543*1e-3      # длина трубы     \n",
    "p_fors = 10*1e6\n",
    "\n",
    "pow_name = \"МАП-1 23/1\"\n",
    "wq, ro = 1.178537, 737.374805"
   ]
  },
  {
   "cell_type": "code",
   "execution_count": 7,
   "id": "326aafbb-4548-463f-abd2-9cf0482526c9",
   "metadata": {},
   "outputs": [],
   "source": [
    "init_dict = {\n",
    "   'powders': \n",
    "    [\n",
    "       {'omega': wq*q,\n",
    "       'dbname': pow_name}\n",
    "    ],\n",
    "    'init_conditions': \n",
    "    {\n",
    "       'q': q,\n",
    "       'd': d,\n",
    "       'W_0': wq*q/ro,\n",
    "       'phi_1': 1.0,\n",
    "       'p_0': p_fors, \n",
    "       'n_S': n_s\n",
    "    },\n",
    "    'igniter': \n",
    "    {\n",
    "       'p_ign_0': 5_000_000.0 #check it \n",
    "    },\n",
    "  \n",
    "    'meta_lagrange': \n",
    "    {\n",
    "       'CFL': 0.9, \n",
    "       'n_cells': 300\n",
    "    },\n",
    "    'stop_conditions': \n",
    "    {\n",
    "       'x_p': tube_lenght,\n",
    "       'steps_max': 8000,   \n",
    "       't_max': 0.08,\n",
    "       'p_max': max_pressure,\n",
    "    }\n",
    "    }"
   ]
  },
  {
   "cell_type": "code",
   "execution_count": 8,
   "id": "e327a6fb-2a8e-4951-b9c7-bf715bce968a",
   "metadata": {},
   "outputs": [],
   "source": [
    "ballistic =  ozvb_lagrange(init_dict)"
   ]
  },
  {
   "cell_type": "code",
   "execution_count": 9,
   "id": "3f9a307c-0e85-4894-bd2a-22f00a60c2cb",
   "metadata": {},
   "outputs": [
    {
     "name": "stdout",
     "output_type": "stream",
     "text": [
      "stop=  x_p |  x_0= -0.9181933370995707 l_tube= 5.543 v= 1725.9951133206675\n"
     ]
    }
   ],
   "source": [
    "print ('stop= ', ballistic['stop_reason'], \"|  x_0=\", ballistic['layers'][-1]['x'][0], \n",
    "       \"l_tube=\", ballistic['layers'][-1]['x'][-1], 'v=', ballistic['layers'][-1]['u'][-1])"
   ]
  },
  {
   "cell_type": "code",
   "execution_count": 10,
   "id": "f2076b52-d0a2-4c77-ab04-565e3c060c96",
   "metadata": {},
   "outputs": [],
   "source": [
    "arr_time = get_time(ballistic)\n",
    "arr_x_pr = get_parametr_1d(ballistic, 'x')\n",
    "arr_p_pr = get_parametr_1d(ballistic, 'p')\n",
    "matrix_x = get_parametr_matrix(ballistic, 'x')\n",
    "matrix_p = get_parametr_matrix(ballistic, 'p')\n",
    "arr_p_mean = np.mean(matrix_p, axis=1)\n",
    "\n",
    "#add layre to 'p' for shape alignment with 'x'\n",
    "matrix_p = np.row_stack((matrix_p.T, matrix_p.T[-1])).T\n",
    "#calculate coordinate from 0 point\n",
    "l0 = np.abs(matrix_x[0][0])\n",
    "matrix_x += l0"
   ]
  },
  {
   "cell_type": "code",
   "execution_count": 11,
   "id": "093741e3-7e21-42a5-af62-0677a8526058",
   "metadata": {},
   "outputs": [
    {
     "data": {
      "text/plain": [
       "((1888, 301), (1888, 301), (1888,), 7.916475936787449)"
      ]
     },
     "execution_count": 11,
     "metadata": {},
     "output_type": "execute_result"
    }
   ],
   "source": [
    "matrix_p.shape, matrix_x.shape, arr_p_mean.shape, arr_time[-1]*1000"
   ]
  },
  {
   "cell_type": "markdown",
   "id": "f906b3f6-6107-4dee-826b-33fcfa4db495",
   "metadata": {
    "tags": []
   },
   "source": [
    "# 2. Geometry"
   ]
  },
  {
   "cell_type": "code",
   "execution_count": 12,
   "id": "c595f960-6b3f-4cd2-af46-696de5ac2451",
   "metadata": {},
   "outputs": [],
   "source": [
    "rho = 7800\n",
    "E = 200e9\n",
    "vi = 0.25\n",
    "g = 9.81\n",
    "\n",
    "# geometry grid\n",
    "n_x = 500"
   ]
  },
  {
   "cell_type": "code",
   "execution_count": 13,
   "id": "4098375b-285c-4deb-92fa-0d15085163bd",
   "metadata": {},
   "outputs": [],
   "source": [
    "Cannon.n = n_x\n",
    "geometry = Cannon(d, matrix_x, matrix_p, l0)\n",
    "geometry.cannon_geometry()"
   ]
  },
  {
   "cell_type": "code",
   "execution_count": 14,
   "id": "fcd7f3f9-63b4-4731-a92a-ccd6abb481b2",
   "metadata": {},
   "outputs": [],
   "source": [
    "beam_coord = geometry.coordinate\n",
    "beam_r1 = geometry.r_inside\n",
    "beam_r1_x = geometry.r_inside_coordinate"
   ]
  },
  {
   "cell_type": "code",
   "execution_count": 15,
   "id": "28010e16-c2e6-4d70-82a3-814d137f9cdd",
   "metadata": {},
   "outputs": [],
   "source": [
    "l_kam = beam_r1_x[-2]"
   ]
  },
  {
   "cell_type": "code",
   "execution_count": 16,
   "id": "f0f70651-c47f-4e38-a4f5-f59ed83018bd",
   "metadata": {},
   "outputs": [],
   "source": [
    "beam_r2_x = np.array([0, 0.4, 0.5, 0.8, beam_coord[-1]])\n",
    "beam_r2 = np.array([0.16, 0.16, 0.16, 0.14, 0.09])"
   ]
  },
  {
   "cell_type": "code",
   "execution_count": 17,
   "id": "ad658cc7-1264-49d9-a060-4f167f816225",
   "metadata": {},
   "outputs": [],
   "source": [
    "matrix_p_xt = geometry.make_p_xt()"
   ]
  },
  {
   "cell_type": "code",
   "execution_count": 18,
   "id": "67734d53-7a73-4782-9f73-aff6c2447113",
   "metadata": {},
   "outputs": [
    {
     "data": {
      "text/plain": [
       "(1888, 500)"
      ]
     },
     "execution_count": 18,
     "metadata": {},
     "output_type": "execute_result"
    }
   ],
   "source": [
    "matrix_p_xt.shape"
   ]
  },
  {
   "cell_type": "markdown",
   "id": "ef6d4c2c-54a2-4e14-b75d-f086b64483bd",
   "metadata": {},
   "source": [
    "### Make interpolate"
   ]
  },
  {
   "cell_type": "code",
   "execution_count": 19,
   "id": "643f0851-4d4f-4be7-9330-9a0ad2515352",
   "metadata": {},
   "outputs": [],
   "source": [
    "# r1(x) and r2(x)\n",
    "func_r1 = interp.interp1d(beam_r1_x, beam_r1, bounds_error=False, fill_value=(0, 0))\n",
    "func_r2 = interp.interp1d(beam_r2_x, beam_r2, bounds_error=False, fill_value=(0, 0))"
   ]
  },
  {
   "cell_type": "code",
   "execution_count": 20,
   "id": "d0befce7-a336-450a-bfad-f7d1ebf0787d",
   "metadata": {},
   "outputs": [],
   "source": [
    "# p(t, x)\n",
    "arr_x = np.linspace(beam_coord[0], beam_coord[-1], n_x)\n",
    "func_p_xt = interp.RegularGridInterpolator((arr_time, arr_x), matrix_p_xt)"
   ]
  },
  {
   "cell_type": "code",
   "execution_count": 21,
   "id": "d818725d-1cd6-471a-98bd-1cbc1d0877b5",
   "metadata": {},
   "outputs": [],
   "source": [
    "# p_mean(t)\n",
    "func_p_mean = interp.interp1d(arr_time, arr_p_mean, bounds_error=False, fill_value=(0, 0))\n",
    "# x_dn(t)\n",
    "arr_x_pr += l_kam\n",
    "func_x_pr = interp.interp1d(arr_time, arr_x_pr, bounds_error=False, fill_value=(0, 0))"
   ]
  },
  {
   "cell_type": "markdown",
   "id": "6c445e40-461e-4efc-9d42-8855d4c79129",
   "metadata": {
    "tags": []
   },
   "source": [
    "### Prepare function"
   ]
  },
  {
   "cell_type": "code",
   "execution_count": 22,
   "id": "66b37dba-9ecd-4859-8ed2-85a41f7e8e11",
   "metadata": {
    "tags": []
   },
   "outputs": [],
   "source": [
    "fun_F = lambda x: np.pi*(func_r2(x)**2 - func_r1(x)**2)\n",
    "fun_S = lambda x: np.pi*func_r1(x)**2\n",
    "fun_J = lambda x: np.pi/4 * (func_r2(x)**4 - func_r1(x)**4)\n",
    "fun_p_pr = lambda t: func_p_mean(t) /(1 + 1/3 * wq)\n",
    "fun_p_kn = lambda t: 1+0.5*wq*fun_p_pr(t)\n",
    "\n",
    "def fun_p (t, x):\n",
    "    x_pr = func_x_pr(t)\n",
    "    if x > x_pr or x < 0:\n",
    "        return 0\n",
    "    else:\n",
    "        return fun_p_kn(t) - 0.5*wq*fun_p_pr(t)* x**2/x_pr**2\n",
    "\n",
    "def fun_dp_dx(t, x):\n",
    "    x_pr = func_x_pr(t)\n",
    "    if x > x_pr or x < 0:\n",
    "        return 0\n",
    "    else:\n",
    "        return - wq*fun_p_pr(t)*x/x_pr**2\n",
    "    \n",
    "fun_p = np.vectorize(fun_p)\n",
    "fun_dp_dx = np.vectorize(fun_dp_dx)"
   ]
  },
  {
   "cell_type": "markdown",
   "id": "9a3237c5-9faf-456f-9929-fba3a221aa3e",
   "metadata": {},
   "source": [
    "# 3. Wave x (long)"
   ]
  },
  {
   "cell_type": "code",
   "execution_count": 23,
   "id": "46459370-ed69-45cc-a387-b9dd65495d55",
   "metadata": {},
   "outputs": [],
   "source": [
    "q_x = lambda t, x: 0\n",
    "displ = arr_x[-1] - 5 # положение заделки\n",
    "n_t = 300"
   ]
  },
  {
   "cell_type": "markdown",
   "id": "a480a82d-bfc3-4eec-af33-bdf934674a35",
   "metadata": {},
   "source": [
    "### Prepare f(t, x)"
   ]
  },
  {
   "cell_type": "code",
   "execution_count": 24,
   "id": "3c553647-cbcf-4c18-8a9d-bb377cade76f",
   "metadata": {},
   "outputs": [],
   "source": [
    "# Define dS/dx:\n",
    "dx = arr_x[1] - arr_x[0]\n",
    "d_dx = FinDiff(0, dx, 1)\n",
    "dS_dx = d_dx(fun_S(arr_x))\n",
    "\n",
    "fun_dS_dx = interp.interp1d(arr_x, dS_dx, bounds_error=False, fill_value=(0, 0))"
   ]
  },
  {
   "cell_type": "code",
   "execution_count": 25,
   "id": "0b95d844-30a7-4473-ae4f-88e3331590a3",
   "metadata": {},
   "outputs": [],
   "source": [
    "def f_i(x, t, del_x = displ):\n",
    "    x_new = x + del_x\n",
    "    return 2*vi*(fun_p(t, x_new)*fun_dS_dx(x_new) + \\\n",
    "                 fun_S(x_new)*fun_dp_dx(t, x_new)) - \\\n",
    "                fun_p(t, x_new)*fun_dS_dx(x_new) - q_x(t, x_new)\n"
   ]
  },
  {
   "cell_type": "code",
   "execution_count": 26,
   "id": "42c24dd2-239c-405b-a884-c2dd1e34aebe",
   "metadata": {},
   "outputs": [
    {
     "data": {
      "text/plain": [
       "0.02802050420709615"
      ]
     },
     "execution_count": 26,
     "metadata": {},
     "output_type": "execute_result"
    }
   ],
   "source": [
    "F_mean = np.mean(fun_F(np.linspace(displ, arr_x[-1], n_x)))\n",
    "F_mean"
   ]
  },
  {
   "cell_type": "markdown",
   "id": "8f9a89a7-39c1-48bc-9254-8366baf3f569",
   "metadata": {
    "tags": []
   },
   "source": [
    "### Solve euption"
   ]
  },
  {
   "cell_type": "code",
   "execution_count": 88,
   "id": "50468bd0-267c-4446-a35e-6f328056a81c",
   "metadata": {},
   "outputs": [],
   "source": [
    "# u_tt = a*(c**2*u_x)_x + a*f(x,t) on (0,L)\n",
    "# начальные условия \n",
    "I = lambda x: 0 # u(0, x)\n",
    "V = lambda x: 0 # du/dt (t=0)\n",
    "# граничные условия \n",
    "U_0 = lambda t: 0 # u(t, 0) if None - du/dx = 0 use - в начале \n",
    "U_L = None # u(t, L) if None - du/dx = 0 use - на конце\n",
    "\n",
    "# функция f(x, t)\n",
    "# Если решаем на учатске F и S - const, то делим на rho и F\n",
    "f = lambda x, t: f_i(x, t) # f(x, t)\n",
    "a = lambda x: 1/rho/fun_F(x)\n",
    "c = lambda x: np.sqrt(E*fun_F(x))\n",
    "\n",
    "dt = arr_time[-1]/n_t\n",
    "T = arr_time[-1]-dt # time stop\n",
    "\n",
    "L = arr_x[-1] - displ\n",
    "C = 0.75 # the Courant number (=max(c)*dt/dx)."
   ]
  },
  {
   "cell_type": "code",
   "execution_count": 89,
   "id": "92416d70-f6ce-4fee-955b-b677c71a0ca4",
   "metadata": {},
   "outputs": [
    {
     "name": "stdout",
     "output_type": "stream",
     "text": [
      "N_x =  28\n",
      "CPU times: total: 1.14 s\n",
      "Wall time: 1.21 s\n"
     ]
    }
   ],
   "source": [
    "%%time\n",
    "grid_x, grid_t, u_matrix = solver_wave(I, V, f_t, c_f, U_0, U_L, L, dt, C, T, a_f, version='vectorized')"
   ]
  },
  {
   "cell_type": "code",
   "execution_count": 90,
   "id": "dd26dc7b-1f8f-4153-afd1-4a99157a7c04",
   "metadata": {},
   "outputs": [],
   "source": [
    "u_matrix = np.array(u_matrix)"
   ]
  },
  {
   "cell_type": "code",
   "execution_count": 91,
   "id": "5f096232-939e-4e95-88a6-96ff4aa0e23d",
   "metadata": {},
   "outputs": [],
   "source": [
    "u = u_matrix.copy()"
   ]
  },
  {
   "cell_type": "markdown",
   "id": "840d8d1e-0177-471d-b69f-526ea525641b",
   "metadata": {
    "tags": []
   },
   "source": [
    "### Vizualization"
   ]
  },
  {
   "cell_type": "code",
   "execution_count": 92,
   "id": "2d6e1f24-6224-42e5-98d7-7fb032a7a924",
   "metadata": {},
   "outputs": [],
   "source": [
    "%matplotlib widget\n",
    "import matplotlib.pyplot as plt\n",
    "import ipywidgets as widgets"
   ]
  },
  {
   "cell_type": "code",
   "execution_count": 93,
   "id": "f7596d3f-5c07-45c6-96b1-22a362e3be33",
   "metadata": {},
   "outputs": [],
   "source": [
    "#%matplotlib inline \n",
    "#%config InlineBackend.figure_format = 'svg' \n",
    "rc = {\"font.family\" : \"serif\", \n",
    "      \"mathtext.fontset\" : \"stix\"}\n",
    "plt.rcParams.update(rc)\n",
    "plt.rcParams[\"font.serif\"] = [\"Times New Roman\"] + plt.rcParams[\"font.serif\"]"
   ]
  },
  {
   "cell_type": "code",
   "execution_count": 95,
   "id": "a3491f1b-5c8c-46a4-b31e-6c07c4cae060",
   "metadata": {
    "tags": []
   },
   "outputs": [
    {
     "data": {
      "application/vnd.jupyter.widget-view+json": {
       "model_id": "75a01f395b1f48dd80b270f189027445",
       "version_major": 2,
       "version_minor": 0
      },
      "text/plain": [
       "AppLayout(children=(IntSlider(value=0, description='step', layout=Layout(grid_area='footer', margin='0px 30% 0…"
      ]
     },
     "metadata": {},
     "output_type": "display_data"
    }
   ],
   "source": [
    "plt.ioff()\n",
    "\n",
    "step_slider = widgets.IntSlider(\n",
    "    orientation='horizontal',\n",
    "    value=0, \n",
    "    min=0, max=len(grid_t), step=1, \n",
    "    description='step'\n",
    ")\n",
    "\n",
    "step_slider.layout.margin = '0px 30% 0px 30%'\n",
    "step_slider.layout.width = '40%'\n",
    "\n",
    "fig = plt.figure(figsize=(10,6))\n",
    "fig.canvas.header_visible = False\n",
    "fig.canvas.layout.min_height = '400px'\n",
    "#plt.title('Plotting step: {}'.format(data_x[step_slider.value]['t_s']))\n",
    "\n",
    "line1 = plt.plot(grid_x, u[0]*1e6, lw=1)\n",
    "\n",
    "plt.xlabel('$x$, м', fontsize=16)\n",
    "plt.ylabel('$u$, мкм', fontsize=16)\n",
    "plt.xlim(0, 6)\n",
    "plt.ylim(-300, 300)\n",
    "plt.grid()\n",
    "\n",
    "\n",
    "def update_lines(change):\n",
    "    #plt.title('Plotting step: {}'.format(data_x[step_slider.value]['t_s']))\n",
    "    line1[0].set_data(grid_x, u[change.new]*1e6)\n",
    "    fig.canvas.draw()\n",
    "    fig.canvas.flush_events()\n",
    "\n",
    "step_slider.observe(update_lines, names='value')\n",
    "\n",
    "widgets.AppLayout(\n",
    "    center=fig.canvas,\n",
    "    footer=step_slider,\n",
    "    pane_heights=[0, 6, 1]\n",
    ")"
   ]
  },
  {
   "cell_type": "code",
   "execution_count": null,
   "id": "d2e81b44-5329-4202-afca-138282b81b90",
   "metadata": {},
   "outputs": [],
   "source": []
  }
 ],
 "metadata": {
  "kernelspec": {
   "display_name": "Python 3 (ipykernel)",
   "language": "python",
   "name": "python3"
  },
  "language_info": {
   "codemirror_mode": {
    "name": "ipython",
    "version": 3
   },
   "file_extension": ".py",
   "mimetype": "text/x-python",
   "name": "python",
   "nbconvert_exporter": "python",
   "pygments_lexer": "ipython3",
   "version": "3.9.12"
  }
 },
 "nbformat": 4,
 "nbformat_minor": 5
}
